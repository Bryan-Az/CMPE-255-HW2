{
 "cells": [
  {
   "cell_type": "code",
   "execution_count": 38,
   "outputs": [],
   "source": [
    "import pandas as pd"
   ],
   "metadata": {
    "collapsed": false,
    "pycharm": {
     "name": "#%%\n"
    }
   }
  },
  {
   "cell_type": "code",
   "execution_count": 39,
   "outputs": [],
   "source": [
    "real_year = pd.read_csv('./real-year.csv')"
   ],
   "metadata": {
    "collapsed": false,
    "pycharm": {
     "name": "#%%\n"
    }
   }
  },
  {
   "cell_type": "code",
   "execution_count": 40,
   "outputs": [],
   "source": [
    "real_year = real_year.dropna(how='any')"
   ],
   "metadata": {
    "collapsed": false,
    "pycharm": {
     "name": "#%%\n"
    }
   }
  },
  {
   "cell_type": "code",
   "execution_count": 41,
   "outputs": [],
   "source": [
    "real_year = real_year.reset_index(drop=True)"
   ],
   "metadata": {
    "collapsed": false,
    "pycharm": {
     "name": "#%%\n"
    }
   }
  },
  {
   "cell_type": "code",
   "execution_count": 42,
   "outputs": [
    {
     "data": {
      "text/plain": "            date       country  price\n0     1967-03-31  South Africa  12.40\n1     1967-06-30  South Africa  13.42\n2     1967-09-30  South Africa  17.98\n3     1967-12-31  South Africa  16.05\n4     1968-03-31  South Africa   2.82\n...          ...           ...    ...\n4312  2017-09-30   Netherlands   7.14\n4313  2017-09-30        Norway   0.96\n4314  2017-09-30      Thailand  -0.22\n4315  2017-09-30        Turkey   0.68\n4316  2017-09-30  South Africa  -0.99\n\n[4317 rows x 3 columns]",
      "text/html": "<div>\n<style scoped>\n    .dataframe tbody tr th:only-of-type {\n        vertical-align: middle;\n    }\n\n    .dataframe tbody tr th {\n        vertical-align: top;\n    }\n\n    .dataframe thead th {\n        text-align: right;\n    }\n</style>\n<table border=\"1\" class=\"dataframe\">\n  <thead>\n    <tr style=\"text-align: right;\">\n      <th></th>\n      <th>date</th>\n      <th>country</th>\n      <th>price</th>\n    </tr>\n  </thead>\n  <tbody>\n    <tr>\n      <th>0</th>\n      <td>1967-03-31</td>\n      <td>South Africa</td>\n      <td>12.40</td>\n    </tr>\n    <tr>\n      <th>1</th>\n      <td>1967-06-30</td>\n      <td>South Africa</td>\n      <td>13.42</td>\n    </tr>\n    <tr>\n      <th>2</th>\n      <td>1967-09-30</td>\n      <td>South Africa</td>\n      <td>17.98</td>\n    </tr>\n    <tr>\n      <th>3</th>\n      <td>1967-12-31</td>\n      <td>South Africa</td>\n      <td>16.05</td>\n    </tr>\n    <tr>\n      <th>4</th>\n      <td>1968-03-31</td>\n      <td>South Africa</td>\n      <td>2.82</td>\n    </tr>\n    <tr>\n      <th>...</th>\n      <td>...</td>\n      <td>...</td>\n      <td>...</td>\n    </tr>\n    <tr>\n      <th>4312</th>\n      <td>2017-09-30</td>\n      <td>Netherlands</td>\n      <td>7.14</td>\n    </tr>\n    <tr>\n      <th>4313</th>\n      <td>2017-09-30</td>\n      <td>Norway</td>\n      <td>0.96</td>\n    </tr>\n    <tr>\n      <th>4314</th>\n      <td>2017-09-30</td>\n      <td>Thailand</td>\n      <td>-0.22</td>\n    </tr>\n    <tr>\n      <th>4315</th>\n      <td>2017-09-30</td>\n      <td>Turkey</td>\n      <td>0.68</td>\n    </tr>\n    <tr>\n      <th>4316</th>\n      <td>2017-09-30</td>\n      <td>South Africa</td>\n      <td>-0.99</td>\n    </tr>\n  </tbody>\n</table>\n<p>4317 rows × 3 columns</p>\n</div>"
     },
     "execution_count": 42,
     "metadata": {},
     "output_type": "execute_result"
    }
   ],
   "source": [
    "real_year"
   ],
   "metadata": {
    "collapsed": false,
    "pycharm": {
     "name": "#%%\n"
    }
   }
  },
  {
   "cell_type": "code",
   "execution_count": 43,
   "outputs": [],
   "source": [
    "real_year.to_csv('./real-year_dropna.csv', index=False)"
   ],
   "metadata": {
    "collapsed": false,
    "pycharm": {
     "name": "#%%\n"
    }
   }
  },
  {
   "cell_type": "code",
   "execution_count": 44,
   "outputs": [
    {
     "data": {
      "text/plain": "            date       country  price\n0     1967-03-31  South Africa  12.40\n1     1967-06-30  South Africa  13.42\n2     1967-09-30  South Africa  17.98\n3     1967-12-31  South Africa  16.05\n4     1968-03-31  South Africa   2.82\n...          ...           ...    ...\n4312  2017-09-30   Netherlands   7.14\n4313  2017-09-30        Norway   0.96\n4314  2017-09-30      Thailand  -0.22\n4315  2017-09-30        Turkey   0.68\n4316  2017-09-30  South Africa  -0.99\n\n[4317 rows x 3 columns]",
      "text/html": "<div>\n<style scoped>\n    .dataframe tbody tr th:only-of-type {\n        vertical-align: middle;\n    }\n\n    .dataframe tbody tr th {\n        vertical-align: top;\n    }\n\n    .dataframe thead th {\n        text-align: right;\n    }\n</style>\n<table border=\"1\" class=\"dataframe\">\n  <thead>\n    <tr style=\"text-align: right;\">\n      <th></th>\n      <th>date</th>\n      <th>country</th>\n      <th>price</th>\n    </tr>\n  </thead>\n  <tbody>\n    <tr>\n      <th>0</th>\n      <td>1967-03-31</td>\n      <td>South Africa</td>\n      <td>12.40</td>\n    </tr>\n    <tr>\n      <th>1</th>\n      <td>1967-06-30</td>\n      <td>South Africa</td>\n      <td>13.42</td>\n    </tr>\n    <tr>\n      <th>2</th>\n      <td>1967-09-30</td>\n      <td>South Africa</td>\n      <td>17.98</td>\n    </tr>\n    <tr>\n      <th>3</th>\n      <td>1967-12-31</td>\n      <td>South Africa</td>\n      <td>16.05</td>\n    </tr>\n    <tr>\n      <th>4</th>\n      <td>1968-03-31</td>\n      <td>South Africa</td>\n      <td>2.82</td>\n    </tr>\n    <tr>\n      <th>...</th>\n      <td>...</td>\n      <td>...</td>\n      <td>...</td>\n    </tr>\n    <tr>\n      <th>4312</th>\n      <td>2017-09-30</td>\n      <td>Netherlands</td>\n      <td>7.14</td>\n    </tr>\n    <tr>\n      <th>4313</th>\n      <td>2017-09-30</td>\n      <td>Norway</td>\n      <td>0.96</td>\n    </tr>\n    <tr>\n      <th>4314</th>\n      <td>2017-09-30</td>\n      <td>Thailand</td>\n      <td>-0.22</td>\n    </tr>\n    <tr>\n      <th>4315</th>\n      <td>2017-09-30</td>\n      <td>Turkey</td>\n      <td>0.68</td>\n    </tr>\n    <tr>\n      <th>4316</th>\n      <td>2017-09-30</td>\n      <td>South Africa</td>\n      <td>-0.99</td>\n    </tr>\n  </tbody>\n</table>\n<p>4317 rows × 3 columns</p>\n</div>"
     },
     "execution_count": 44,
     "metadata": {},
     "output_type": "execute_result"
    }
   ],
   "source": [
    "real_year"
   ],
   "metadata": {
    "collapsed": false,
    "pycharm": {
     "name": "#%%\n"
    }
   }
  },
  {
   "cell_type": "code",
   "execution_count": 31,
   "outputs": [
    {
     "data": {
      "text/plain": "             date       country  price\n304    1967-03-31  South Africa  12.40\n365    1967-06-30  South Africa  13.42\n426    1967-09-30  South Africa  17.98\n487    1967-12-31  South Africa  16.05\n548    1968-03-31  South Africa   2.82\n...           ...           ...    ...\n12608  2017-09-30   Netherlands   7.14\n12609  2017-09-30        Norway   0.96\n12622  2017-09-30      Thailand  -0.22\n12623  2017-09-30        Turkey   0.68\n12626  2017-09-30  South Africa  -0.99\n\n[4317 rows x 3 columns]",
      "text/html": "<div>\n<style scoped>\n    .dataframe tbody tr th:only-of-type {\n        vertical-align: middle;\n    }\n\n    .dataframe tbody tr th {\n        vertical-align: top;\n    }\n\n    .dataframe thead th {\n        text-align: right;\n    }\n</style>\n<table border=\"1\" class=\"dataframe\">\n  <thead>\n    <tr style=\"text-align: right;\">\n      <th></th>\n      <th>date</th>\n      <th>country</th>\n      <th>price</th>\n    </tr>\n  </thead>\n  <tbody>\n    <tr>\n      <th>304</th>\n      <td>1967-03-31</td>\n      <td>South Africa</td>\n      <td>12.40</td>\n    </tr>\n    <tr>\n      <th>365</th>\n      <td>1967-06-30</td>\n      <td>South Africa</td>\n      <td>13.42</td>\n    </tr>\n    <tr>\n      <th>426</th>\n      <td>1967-09-30</td>\n      <td>South Africa</td>\n      <td>17.98</td>\n    </tr>\n    <tr>\n      <th>487</th>\n      <td>1967-12-31</td>\n      <td>South Africa</td>\n      <td>16.05</td>\n    </tr>\n    <tr>\n      <th>548</th>\n      <td>1968-03-31</td>\n      <td>South Africa</td>\n      <td>2.82</td>\n    </tr>\n    <tr>\n      <th>...</th>\n      <td>...</td>\n      <td>...</td>\n      <td>...</td>\n    </tr>\n    <tr>\n      <th>12608</th>\n      <td>2017-09-30</td>\n      <td>Netherlands</td>\n      <td>7.14</td>\n    </tr>\n    <tr>\n      <th>12609</th>\n      <td>2017-09-30</td>\n      <td>Norway</td>\n      <td>0.96</td>\n    </tr>\n    <tr>\n      <th>12622</th>\n      <td>2017-09-30</td>\n      <td>Thailand</td>\n      <td>-0.22</td>\n    </tr>\n    <tr>\n      <th>12623</th>\n      <td>2017-09-30</td>\n      <td>Turkey</td>\n      <td>0.68</td>\n    </tr>\n    <tr>\n      <th>12626</th>\n      <td>2017-09-30</td>\n      <td>South Africa</td>\n      <td>-0.99</td>\n    </tr>\n  </tbody>\n</table>\n<p>4317 rows × 3 columns</p>\n</div>"
     },
     "execution_count": 31,
     "metadata": {},
     "output_type": "execute_result"
    }
   ],
   "source": [],
   "metadata": {
    "collapsed": false,
    "pycharm": {
     "name": "#%%\n"
    }
   }
  },
  {
   "cell_type": "code",
   "execution_count": null,
   "outputs": [],
   "source": [],
   "metadata": {
    "collapsed": false,
    "pycharm": {
     "name": "#%%\n"
    }
   }
  }
 ],
 "metadata": {
  "kernelspec": {
   "display_name": "Python 3",
   "language": "python",
   "name": "python3"
  },
  "language_info": {
   "codemirror_mode": {
    "name": "ipython",
    "version": 2
   },
   "file_extension": ".py",
   "mimetype": "text/x-python",
   "name": "python",
   "nbconvert_exporter": "python",
   "pygments_lexer": "ipython2",
   "version": "2.7.6"
  }
 },
 "nbformat": 4,
 "nbformat_minor": 0
}