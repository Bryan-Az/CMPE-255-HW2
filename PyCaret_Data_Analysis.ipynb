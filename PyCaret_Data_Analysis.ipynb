{
  "nbformat": 4,
  "nbformat_minor": 0,
  "metadata": {
    "colab": {
      "provenance": [],
      "toc_visible": true,
      "authorship_tag": "ABX9TyOcigonl4ENElTmzh+ORtke",
      "include_colab_link": true
    },
    "kernelspec": {
      "name": "python3",
      "display_name": "Python 3"
    },
    "language_info": {
      "name": "python"
    },
    "widgets": {
      "application/vnd.jupyter.widget-state+json": {
        "8ea816d1d06a46bfbbcd14446d1a4e12": {
          "model_module": "@jupyter-widgets/controls",
          "model_name": "HBoxModel",
          "model_module_version": "1.5.0",
          "state": {
            "_dom_classes": [],
            "_model_module": "@jupyter-widgets/controls",
            "_model_module_version": "1.5.0",
            "_model_name": "HBoxModel",
            "_view_count": null,
            "_view_module": "@jupyter-widgets/controls",
            "_view_module_version": "1.5.0",
            "_view_name": "HBoxView",
            "box_style": "",
            "children": [
              "IPY_MODEL_9c144ffaabd64f3c8d60e254f031051e",
              "IPY_MODEL_705807d400ab4e079f378a128bca419b",
              "IPY_MODEL_5701e76e42ff4a2a97bb7e7e08c6f651"
            ],
            "layout": "IPY_MODEL_a5e1496cc3154ea994bdd8f33a0a84ea"
          }
        },
        "9c144ffaabd64f3c8d60e254f031051e": {
          "model_module": "@jupyter-widgets/controls",
          "model_name": "HTMLModel",
          "model_module_version": "1.5.0",
          "state": {
            "_dom_classes": [],
            "_model_module": "@jupyter-widgets/controls",
            "_model_module_version": "1.5.0",
            "_model_name": "HTMLModel",
            "_view_count": null,
            "_view_module": "@jupyter-widgets/controls",
            "_view_module_version": "1.5.0",
            "_view_name": "HTMLView",
            "description": "",
            "description_tooltip": null,
            "layout": "IPY_MODEL_1729e56316094ae9a1a63dae035e6488",
            "placeholder": "​",
            "style": "IPY_MODEL_07f82980587c43c2bea80d45b6587c0c",
            "value": "Processing: 100%"
          }
        },
        "705807d400ab4e079f378a128bca419b": {
          "model_module": "@jupyter-widgets/controls",
          "model_name": "FloatProgressModel",
          "model_module_version": "1.5.0",
          "state": {
            "_dom_classes": [],
            "_model_module": "@jupyter-widgets/controls",
            "_model_module_version": "1.5.0",
            "_model_name": "FloatProgressModel",
            "_view_count": null,
            "_view_module": "@jupyter-widgets/controls",
            "_view_module_version": "1.5.0",
            "_view_name": "ProgressView",
            "bar_style": "",
            "description": "",
            "description_tooltip": null,
            "layout": "IPY_MODEL_3940d293205a4537a510e567ee282b88",
            "max": 65,
            "min": 0,
            "orientation": "horizontal",
            "style": "IPY_MODEL_c796a2bbfd1c4f26bcbec83ab4eb1f46",
            "value": 65
          }
        },
        "5701e76e42ff4a2a97bb7e7e08c6f651": {
          "model_module": "@jupyter-widgets/controls",
          "model_name": "HTMLModel",
          "model_module_version": "1.5.0",
          "state": {
            "_dom_classes": [],
            "_model_module": "@jupyter-widgets/controls",
            "_model_module_version": "1.5.0",
            "_model_name": "HTMLModel",
            "_view_count": null,
            "_view_module": "@jupyter-widgets/controls",
            "_view_module_version": "1.5.0",
            "_view_name": "HTMLView",
            "description": "",
            "description_tooltip": null,
            "layout": "IPY_MODEL_77214e6f14434dce9fafc3409773bc47",
            "placeholder": "​",
            "style": "IPY_MODEL_2fe056c538bb4998b2bb723af49af3da",
            "value": " 65/65 [11:32&lt;00:00,  7.81s/it]"
          }
        },
        "a5e1496cc3154ea994bdd8f33a0a84ea": {
          "model_module": "@jupyter-widgets/base",
          "model_name": "LayoutModel",
          "model_module_version": "1.2.0",
          "state": {
            "_model_module": "@jupyter-widgets/base",
            "_model_module_version": "1.2.0",
            "_model_name": "LayoutModel",
            "_view_count": null,
            "_view_module": "@jupyter-widgets/base",
            "_view_module_version": "1.2.0",
            "_view_name": "LayoutView",
            "align_content": null,
            "align_items": null,
            "align_self": null,
            "border": null,
            "bottom": null,
            "display": null,
            "flex": null,
            "flex_flow": null,
            "grid_area": null,
            "grid_auto_columns": null,
            "grid_auto_flow": null,
            "grid_auto_rows": null,
            "grid_column": null,
            "grid_gap": null,
            "grid_row": null,
            "grid_template_areas": null,
            "grid_template_columns": null,
            "grid_template_rows": null,
            "height": null,
            "justify_content": null,
            "justify_items": null,
            "left": null,
            "margin": null,
            "max_height": null,
            "max_width": null,
            "min_height": null,
            "min_width": null,
            "object_fit": null,
            "object_position": null,
            "order": null,
            "overflow": null,
            "overflow_x": null,
            "overflow_y": null,
            "padding": null,
            "right": null,
            "top": null,
            "visibility": "hidden",
            "width": null
          }
        },
        "1729e56316094ae9a1a63dae035e6488": {
          "model_module": "@jupyter-widgets/base",
          "model_name": "LayoutModel",
          "model_module_version": "1.2.0",
          "state": {
            "_model_module": "@jupyter-widgets/base",
            "_model_module_version": "1.2.0",
            "_model_name": "LayoutModel",
            "_view_count": null,
            "_view_module": "@jupyter-widgets/base",
            "_view_module_version": "1.2.0",
            "_view_name": "LayoutView",
            "align_content": null,
            "align_items": null,
            "align_self": null,
            "border": null,
            "bottom": null,
            "display": null,
            "flex": null,
            "flex_flow": null,
            "grid_area": null,
            "grid_auto_columns": null,
            "grid_auto_flow": null,
            "grid_auto_rows": null,
            "grid_column": null,
            "grid_gap": null,
            "grid_row": null,
            "grid_template_areas": null,
            "grid_template_columns": null,
            "grid_template_rows": null,
            "height": null,
            "justify_content": null,
            "justify_items": null,
            "left": null,
            "margin": null,
            "max_height": null,
            "max_width": null,
            "min_height": null,
            "min_width": null,
            "object_fit": null,
            "object_position": null,
            "order": null,
            "overflow": null,
            "overflow_x": null,
            "overflow_y": null,
            "padding": null,
            "right": null,
            "top": null,
            "visibility": null,
            "width": null
          }
        },
        "07f82980587c43c2bea80d45b6587c0c": {
          "model_module": "@jupyter-widgets/controls",
          "model_name": "DescriptionStyleModel",
          "model_module_version": "1.5.0",
          "state": {
            "_model_module": "@jupyter-widgets/controls",
            "_model_module_version": "1.5.0",
            "_model_name": "DescriptionStyleModel",
            "_view_count": null,
            "_view_module": "@jupyter-widgets/base",
            "_view_module_version": "1.2.0",
            "_view_name": "StyleView",
            "description_width": ""
          }
        },
        "3940d293205a4537a510e567ee282b88": {
          "model_module": "@jupyter-widgets/base",
          "model_name": "LayoutModel",
          "model_module_version": "1.2.0",
          "state": {
            "_model_module": "@jupyter-widgets/base",
            "_model_module_version": "1.2.0",
            "_model_name": "LayoutModel",
            "_view_count": null,
            "_view_module": "@jupyter-widgets/base",
            "_view_module_version": "1.2.0",
            "_view_name": "LayoutView",
            "align_content": null,
            "align_items": null,
            "align_self": null,
            "border": null,
            "bottom": null,
            "display": null,
            "flex": null,
            "flex_flow": null,
            "grid_area": null,
            "grid_auto_columns": null,
            "grid_auto_flow": null,
            "grid_auto_rows": null,
            "grid_column": null,
            "grid_gap": null,
            "grid_row": null,
            "grid_template_areas": null,
            "grid_template_columns": null,
            "grid_template_rows": null,
            "height": null,
            "justify_content": null,
            "justify_items": null,
            "left": null,
            "margin": null,
            "max_height": null,
            "max_width": null,
            "min_height": null,
            "min_width": null,
            "object_fit": null,
            "object_position": null,
            "order": null,
            "overflow": null,
            "overflow_x": null,
            "overflow_y": null,
            "padding": null,
            "right": null,
            "top": null,
            "visibility": null,
            "width": null
          }
        },
        "c796a2bbfd1c4f26bcbec83ab4eb1f46": {
          "model_module": "@jupyter-widgets/controls",
          "model_name": "ProgressStyleModel",
          "model_module_version": "1.5.0",
          "state": {
            "_model_module": "@jupyter-widgets/controls",
            "_model_module_version": "1.5.0",
            "_model_name": "ProgressStyleModel",
            "_view_count": null,
            "_view_module": "@jupyter-widgets/base",
            "_view_module_version": "1.2.0",
            "_view_name": "StyleView",
            "bar_color": null,
            "description_width": ""
          }
        },
        "77214e6f14434dce9fafc3409773bc47": {
          "model_module": "@jupyter-widgets/base",
          "model_name": "LayoutModel",
          "model_module_version": "1.2.0",
          "state": {
            "_model_module": "@jupyter-widgets/base",
            "_model_module_version": "1.2.0",
            "_model_name": "LayoutModel",
            "_view_count": null,
            "_view_module": "@jupyter-widgets/base",
            "_view_module_version": "1.2.0",
            "_view_name": "LayoutView",
            "align_content": null,
            "align_items": null,
            "align_self": null,
            "border": null,
            "bottom": null,
            "display": null,
            "flex": null,
            "flex_flow": null,
            "grid_area": null,
            "grid_auto_columns": null,
            "grid_auto_flow": null,
            "grid_auto_rows": null,
            "grid_column": null,
            "grid_gap": null,
            "grid_row": null,
            "grid_template_areas": null,
            "grid_template_columns": null,
            "grid_template_rows": null,
            "height": null,
            "justify_content": null,
            "justify_items": null,
            "left": null,
            "margin": null,
            "max_height": null,
            "max_width": null,
            "min_height": null,
            "min_width": null,
            "object_fit": null,
            "object_position": null,
            "order": null,
            "overflow": null,
            "overflow_x": null,
            "overflow_y": null,
            "padding": null,
            "right": null,
            "top": null,
            "visibility": null,
            "width": null
          }
        },
        "2fe056c538bb4998b2bb723af49af3da": {
          "model_module": "@jupyter-widgets/controls",
          "model_name": "DescriptionStyleModel",
          "model_module_version": "1.5.0",
          "state": {
            "_model_module": "@jupyter-widgets/controls",
            "_model_module_version": "1.5.0",
            "_model_name": "DescriptionStyleModel",
            "_view_count": null,
            "_view_module": "@jupyter-widgets/base",
            "_view_module_version": "1.2.0",
            "_view_name": "StyleView",
            "description_width": ""
          }
        },
        "29417db5fb694e2aab4a575b6262c37c": {
          "model_module": "@jupyter-widgets/controls",
          "model_name": "HBoxModel",
          "model_module_version": "1.5.0",
          "state": {
            "_dom_classes": [],
            "_model_module": "@jupyter-widgets/controls",
            "_model_module_version": "1.5.0",
            "_model_name": "HBoxModel",
            "_view_count": null,
            "_view_module": "@jupyter-widgets/controls",
            "_view_module_version": "1.5.0",
            "_view_name": "HBoxView",
            "box_style": "",
            "children": [
              "IPY_MODEL_6d40afbbd24143868913089d8d59a034",
              "IPY_MODEL_2b3e49a03b0b407baf99fd287404644f",
              "IPY_MODEL_253f8a5fabd54944bc74827bca43b409"
            ],
            "layout": "IPY_MODEL_c4ec1a1c415e4fd2947aed4b45b103ca"
          }
        },
        "6d40afbbd24143868913089d8d59a034": {
          "model_module": "@jupyter-widgets/controls",
          "model_name": "HTMLModel",
          "model_module_version": "1.5.0",
          "state": {
            "_dom_classes": [],
            "_model_module": "@jupyter-widgets/controls",
            "_model_module_version": "1.5.0",
            "_model_name": "HTMLModel",
            "_view_count": null,
            "_view_module": "@jupyter-widgets/controls",
            "_view_module_version": "1.5.0",
            "_view_name": "HTMLView",
            "description": "",
            "description_tooltip": null,
            "layout": "IPY_MODEL_6ac3c927483a4038ad7d572a175c2e11",
            "placeholder": "​",
            "style": "IPY_MODEL_36504e1478784242ae2a022f69b43925",
            "value": "Processing: 100%"
          }
        },
        "2b3e49a03b0b407baf99fd287404644f": {
          "model_module": "@jupyter-widgets/controls",
          "model_name": "FloatProgressModel",
          "model_module_version": "1.5.0",
          "state": {
            "_dom_classes": [],
            "_model_module": "@jupyter-widgets/controls",
            "_model_module_version": "1.5.0",
            "_model_name": "FloatProgressModel",
            "_view_count": null,
            "_view_module": "@jupyter-widgets/controls",
            "_view_module_version": "1.5.0",
            "_view_name": "ProgressView",
            "bar_style": "",
            "description": "",
            "description_tooltip": null,
            "layout": "IPY_MODEL_7da1171a8930452eb31cbd500895ed82",
            "max": 65,
            "min": 0,
            "orientation": "horizontal",
            "style": "IPY_MODEL_9d4a677c58d9450db8f3d786378d8329",
            "value": 65
          }
        },
        "253f8a5fabd54944bc74827bca43b409": {
          "model_module": "@jupyter-widgets/controls",
          "model_name": "HTMLModel",
          "model_module_version": "1.5.0",
          "state": {
            "_dom_classes": [],
            "_model_module": "@jupyter-widgets/controls",
            "_model_module_version": "1.5.0",
            "_model_name": "HTMLModel",
            "_view_count": null,
            "_view_module": "@jupyter-widgets/controls",
            "_view_module_version": "1.5.0",
            "_view_name": "HTMLView",
            "description": "",
            "description_tooltip": null,
            "layout": "IPY_MODEL_4f8ddf59b9cd4794b112f44ee2a5e5bc",
            "placeholder": "​",
            "style": "IPY_MODEL_a56dad5603a8473f9c00c0703b628a59",
            "value": " 65/65 [22:46&lt;00:00, 13.91s/it]"
          }
        },
        "c4ec1a1c415e4fd2947aed4b45b103ca": {
          "model_module": "@jupyter-widgets/base",
          "model_name": "LayoutModel",
          "model_module_version": "1.2.0",
          "state": {
            "_model_module": "@jupyter-widgets/base",
            "_model_module_version": "1.2.0",
            "_model_name": "LayoutModel",
            "_view_count": null,
            "_view_module": "@jupyter-widgets/base",
            "_view_module_version": "1.2.0",
            "_view_name": "LayoutView",
            "align_content": null,
            "align_items": null,
            "align_self": null,
            "border": null,
            "bottom": null,
            "display": null,
            "flex": null,
            "flex_flow": null,
            "grid_area": null,
            "grid_auto_columns": null,
            "grid_auto_flow": null,
            "grid_auto_rows": null,
            "grid_column": null,
            "grid_gap": null,
            "grid_row": null,
            "grid_template_areas": null,
            "grid_template_columns": null,
            "grid_template_rows": null,
            "height": null,
            "justify_content": null,
            "justify_items": null,
            "left": null,
            "margin": null,
            "max_height": null,
            "max_width": null,
            "min_height": null,
            "min_width": null,
            "object_fit": null,
            "object_position": null,
            "order": null,
            "overflow": null,
            "overflow_x": null,
            "overflow_y": null,
            "padding": null,
            "right": null,
            "top": null,
            "visibility": "hidden",
            "width": null
          }
        },
        "6ac3c927483a4038ad7d572a175c2e11": {
          "model_module": "@jupyter-widgets/base",
          "model_name": "LayoutModel",
          "model_module_version": "1.2.0",
          "state": {
            "_model_module": "@jupyter-widgets/base",
            "_model_module_version": "1.2.0",
            "_model_name": "LayoutModel",
            "_view_count": null,
            "_view_module": "@jupyter-widgets/base",
            "_view_module_version": "1.2.0",
            "_view_name": "LayoutView",
            "align_content": null,
            "align_items": null,
            "align_self": null,
            "border": null,
            "bottom": null,
            "display": null,
            "flex": null,
            "flex_flow": null,
            "grid_area": null,
            "grid_auto_columns": null,
            "grid_auto_flow": null,
            "grid_auto_rows": null,
            "grid_column": null,
            "grid_gap": null,
            "grid_row": null,
            "grid_template_areas": null,
            "grid_template_columns": null,
            "grid_template_rows": null,
            "height": null,
            "justify_content": null,
            "justify_items": null,
            "left": null,
            "margin": null,
            "max_height": null,
            "max_width": null,
            "min_height": null,
            "min_width": null,
            "object_fit": null,
            "object_position": null,
            "order": null,
            "overflow": null,
            "overflow_x": null,
            "overflow_y": null,
            "padding": null,
            "right": null,
            "top": null,
            "visibility": null,
            "width": null
          }
        },
        "36504e1478784242ae2a022f69b43925": {
          "model_module": "@jupyter-widgets/controls",
          "model_name": "DescriptionStyleModel",
          "model_module_version": "1.5.0",
          "state": {
            "_model_module": "@jupyter-widgets/controls",
            "_model_module_version": "1.5.0",
            "_model_name": "DescriptionStyleModel",
            "_view_count": null,
            "_view_module": "@jupyter-widgets/base",
            "_view_module_version": "1.2.0",
            "_view_name": "StyleView",
            "description_width": ""
          }
        },
        "7da1171a8930452eb31cbd500895ed82": {
          "model_module": "@jupyter-widgets/base",
          "model_name": "LayoutModel",
          "model_module_version": "1.2.0",
          "state": {
            "_model_module": "@jupyter-widgets/base",
            "_model_module_version": "1.2.0",
            "_model_name": "LayoutModel",
            "_view_count": null,
            "_view_module": "@jupyter-widgets/base",
            "_view_module_version": "1.2.0",
            "_view_name": "LayoutView",
            "align_content": null,
            "align_items": null,
            "align_self": null,
            "border": null,
            "bottom": null,
            "display": null,
            "flex": null,
            "flex_flow": null,
            "grid_area": null,
            "grid_auto_columns": null,
            "grid_auto_flow": null,
            "grid_auto_rows": null,
            "grid_column": null,
            "grid_gap": null,
            "grid_row": null,
            "grid_template_areas": null,
            "grid_template_columns": null,
            "grid_template_rows": null,
            "height": null,
            "justify_content": null,
            "justify_items": null,
            "left": null,
            "margin": null,
            "max_height": null,
            "max_width": null,
            "min_height": null,
            "min_width": null,
            "object_fit": null,
            "object_position": null,
            "order": null,
            "overflow": null,
            "overflow_x": null,
            "overflow_y": null,
            "padding": null,
            "right": null,
            "top": null,
            "visibility": null,
            "width": null
          }
        },
        "9d4a677c58d9450db8f3d786378d8329": {
          "model_module": "@jupyter-widgets/controls",
          "model_name": "ProgressStyleModel",
          "model_module_version": "1.5.0",
          "state": {
            "_model_module": "@jupyter-widgets/controls",
            "_model_module_version": "1.5.0",
            "_model_name": "ProgressStyleModel",
            "_view_count": null,
            "_view_module": "@jupyter-widgets/base",
            "_view_module_version": "1.2.0",
            "_view_name": "StyleView",
            "bar_color": null,
            "description_width": ""
          }
        },
        "4f8ddf59b9cd4794b112f44ee2a5e5bc": {
          "model_module": "@jupyter-widgets/base",
          "model_name": "LayoutModel",
          "model_module_version": "1.2.0",
          "state": {
            "_model_module": "@jupyter-widgets/base",
            "_model_module_version": "1.2.0",
            "_model_name": "LayoutModel",
            "_view_count": null,
            "_view_module": "@jupyter-widgets/base",
            "_view_module_version": "1.2.0",
            "_view_name": "LayoutView",
            "align_content": null,
            "align_items": null,
            "align_self": null,
            "border": null,
            "bottom": null,
            "display": null,
            "flex": null,
            "flex_flow": null,
            "grid_area": null,
            "grid_auto_columns": null,
            "grid_auto_flow": null,
            "grid_auto_rows": null,
            "grid_column": null,
            "grid_gap": null,
            "grid_row": null,
            "grid_template_areas": null,
            "grid_template_columns": null,
            "grid_template_rows": null,
            "height": null,
            "justify_content": null,
            "justify_items": null,
            "left": null,
            "margin": null,
            "max_height": null,
            "max_width": null,
            "min_height": null,
            "min_width": null,
            "object_fit": null,
            "object_position": null,
            "order": null,
            "overflow": null,
            "overflow_x": null,
            "overflow_y": null,
            "padding": null,
            "right": null,
            "top": null,
            "visibility": null,
            "width": null
          }
        },
        "a56dad5603a8473f9c00c0703b628a59": {
          "model_module": "@jupyter-widgets/controls",
          "model_name": "DescriptionStyleModel",
          "model_module_version": "1.5.0",
          "state": {
            "_model_module": "@jupyter-widgets/controls",
            "_model_module_version": "1.5.0",
            "_model_name": "DescriptionStyleModel",
            "_view_count": null,
            "_view_module": "@jupyter-widgets/base",
            "_view_module_version": "1.2.0",
            "_view_name": "StyleView",
            "description_width": ""
          }
        }
      }
    }
  },
  "cells": [
    {
      "cell_type": "markdown",
      "metadata": {
        "id": "view-in-github",
        "colab_type": "text"
      },
      "source": [
        "<a href=\"https://colab.research.google.com/github/Bryan-Az/CMPE-255-HW2/blob/main/PyCaret_Data_Analysis.ipynb\" target=\"_parent\"><img src=\"https://colab.research.google.com/assets/colab-badge.svg\" alt=\"Open In Colab\"/></a>"
      ]
    },
    {
      "cell_type": "code",
      "source": [
        "pip install pycaret"
      ],
      "metadata": {
        "colab": {
          "base_uri": "https://localhost:8080/"
        },
        "id": "5dXztRNWYL29",
        "outputId": "2b0a0423-ab65-4ef9-f714-f83fbd46da65"
      },
      "execution_count": 6,
      "outputs": [
        {
          "output_type": "stream",
          "name": "stdout",
          "text": [
            "Collecting pycaret\n",
            "  Downloading pycaret-3.0.4-py3-none-any.whl (484 kB)\n",
            "\u001b[2K     \u001b[90m━━━━━━━━━━━━━━━━━━━━━━━━━━━━━━━━━━━━━━━\u001b[0m \u001b[32m484.4/484.4 kB\u001b[0m \u001b[31m5.5 MB/s\u001b[0m eta \u001b[36m0:00:00\u001b[0m\n",
            "\u001b[?25hRequirement already satisfied: ipython>=5.5.0 in /usr/local/lib/python3.10/dist-packages (from pycaret) (7.34.0)\n",
            "Requirement already satisfied: ipywidgets>=7.6.5 in /usr/local/lib/python3.10/dist-packages (from pycaret) (7.7.1)\n",
            "Requirement already satisfied: tqdm>=4.62.0 in /usr/local/lib/python3.10/dist-packages (from pycaret) (4.66.1)\n",
            "Requirement already satisfied: numpy<1.24,>=1.21 in /usr/local/lib/python3.10/dist-packages (from pycaret) (1.23.5)\n",
            "Requirement already satisfied: pandas<2.0.0,>=1.3.0 in /usr/local/lib/python3.10/dist-packages (from pycaret) (1.5.3)\n",
            "Requirement already satisfied: jinja2>=1.2 in /usr/local/lib/python3.10/dist-packages (from pycaret) (3.1.2)\n",
            "Requirement already satisfied: scipy<2.0.0 in /usr/local/lib/python3.10/dist-packages (from pycaret) (1.10.1)\n",
            "Requirement already satisfied: joblib>=1.2.0 in /usr/local/lib/python3.10/dist-packages (from pycaret) (1.3.2)\n",
            "Requirement already satisfied: scikit-learn<1.3.0,>=1.0 in /usr/local/lib/python3.10/dist-packages (from pycaret) (1.2.2)\n",
            "Collecting pyod>=1.0.8 (from pycaret)\n",
            "  Downloading pyod-1.1.0.tar.gz (153 kB)\n",
            "\u001b[2K     \u001b[90m━━━━━━━━━━━━━━━━━━━━━━━━━━━━━━━━━━━━━━━\u001b[0m \u001b[32m153.4/153.4 kB\u001b[0m \u001b[31m7.9 MB/s\u001b[0m eta \u001b[36m0:00:00\u001b[0m\n",
            "\u001b[?25h  Preparing metadata (setup.py) ... \u001b[?25l\u001b[?25hdone\n",
            "Requirement already satisfied: imbalanced-learn>=0.8.1 in /usr/local/lib/python3.10/dist-packages (from pycaret) (0.10.1)\n",
            "Collecting category-encoders>=2.4.0 (from pycaret)\n",
            "  Downloading category_encoders-2.6.2-py2.py3-none-any.whl (81 kB)\n",
            "\u001b[2K     \u001b[90m━━━━━━━━━━━━━━━━━━━━━━━━━━━━━━━━━━━━━━━━\u001b[0m \u001b[32m81.8/81.8 kB\u001b[0m \u001b[31m7.5 MB/s\u001b[0m eta \u001b[36m0:00:00\u001b[0m\n",
            "\u001b[?25hRequirement already satisfied: lightgbm>=3.0.0 in /usr/local/lib/python3.10/dist-packages (from pycaret) (4.0.0)\n",
            "Requirement already satisfied: numba>=0.55.0 in /usr/local/lib/python3.10/dist-packages (from pycaret) (0.56.4)\n",
            "Requirement already satisfied: requests>=2.27.1 in /usr/local/lib/python3.10/dist-packages (from pycaret) (2.31.0)\n",
            "Requirement already satisfied: psutil>=5.9.0 in /usr/local/lib/python3.10/dist-packages (from pycaret) (5.9.5)\n",
            "Requirement already satisfied: markupsafe>=2.0.1 in /usr/local/lib/python3.10/dist-packages (from pycaret) (2.1.3)\n",
            "Requirement already satisfied: importlib-metadata>=4.12.0 in /usr/local/lib/python3.10/dist-packages (from pycaret) (6.8.0)\n",
            "Requirement already satisfied: nbformat>=4.2.0 in /usr/local/lib/python3.10/dist-packages (from pycaret) (5.9.2)\n",
            "Requirement already satisfied: cloudpickle in /usr/local/lib/python3.10/dist-packages (from pycaret) (2.2.1)\n",
            "Collecting deprecation>=2.1.0 (from pycaret)\n",
            "  Downloading deprecation-2.1.0-py2.py3-none-any.whl (11 kB)\n",
            "Collecting xxhash (from pycaret)\n",
            "  Downloading xxhash-3.3.0-cp310-cp310-manylinux_2_17_x86_64.manylinux2014_x86_64.whl (194 kB)\n",
            "\u001b[2K     \u001b[90m━━━━━━━━━━━━━━━━━━━━━━━━━━━━━━━━━━━━━━━\u001b[0m \u001b[32m194.1/194.1 kB\u001b[0m \u001b[31m8.7 MB/s\u001b[0m eta \u001b[36m0:00:00\u001b[0m\n",
            "\u001b[?25hRequirement already satisfied: matplotlib>=3.3.0 in /usr/local/lib/python3.10/dist-packages (from pycaret) (3.7.1)\n",
            "Collecting scikit-plot>=0.3.7 (from pycaret)\n",
            "  Downloading scikit_plot-0.3.7-py3-none-any.whl (33 kB)\n",
            "Requirement already satisfied: yellowbrick>=1.4 in /usr/local/lib/python3.10/dist-packages (from pycaret) (1.5)\n",
            "Requirement already satisfied: plotly>=5.0.0 in /usr/local/lib/python3.10/dist-packages (from pycaret) (5.15.0)\n",
            "Collecting kaleido>=0.2.1 (from pycaret)\n",
            "  Downloading kaleido-0.2.1-py2.py3-none-manylinux1_x86_64.whl (79.9 MB)\n",
            "\u001b[2K     \u001b[90m━━━━━━━━━━━━━━━━━━━━━━━━━━━━━━━━━━━━━━━━\u001b[0m \u001b[32m79.9/79.9 MB\u001b[0m \u001b[31m12.4 MB/s\u001b[0m eta \u001b[36m0:00:00\u001b[0m\n",
            "\u001b[?25hCollecting schemdraw==0.15 (from pycaret)\n",
            "  Downloading schemdraw-0.15-py3-none-any.whl (106 kB)\n",
            "\u001b[2K     \u001b[90m━━━━━━━━━━━━━━━━━━━━━━━━━━━━━━━━━━━━━━\u001b[0m \u001b[32m106.8/106.8 kB\u001b[0m \u001b[31m10.0 MB/s\u001b[0m eta \u001b[36m0:00:00\u001b[0m\n",
            "\u001b[?25hCollecting plotly-resampler>=0.8.3.1 (from pycaret)\n",
            "  Downloading plotly_resampler-0.9.1-py3-none-any.whl (73 kB)\n",
            "\u001b[2K     \u001b[90m━━━━━━━━━━━━━━━━━━━━━━━━━━━━━━━━━━━━━━━━\u001b[0m \u001b[32m73.4/73.4 kB\u001b[0m \u001b[31m6.9 MB/s\u001b[0m eta \u001b[36m0:00:00\u001b[0m\n",
            "\u001b[?25hRequirement already satisfied: statsmodels>=0.12.1 in /usr/local/lib/python3.10/dist-packages (from pycaret) (0.14.0)\n",
            "Collecting sktime!=0.17.1,!=0.17.2,!=0.18.0,>=0.16.1 (from pycaret)\n",
            "  Downloading sktime-0.22.0-py3-none-any.whl (17.5 MB)\n",
            "\u001b[2K     \u001b[90m━━━━━━━━━━━━━━━━━━━━━━━━━━━━━━━━━━━━━━━━\u001b[0m \u001b[32m17.5/17.5 MB\u001b[0m \u001b[31m59.6 MB/s\u001b[0m eta \u001b[36m0:00:00\u001b[0m\n",
            "\u001b[?25hCollecting tbats>=1.1.3 (from pycaret)\n",
            "  Downloading tbats-1.1.3-py3-none-any.whl (44 kB)\n",
            "\u001b[2K     \u001b[90m━━━━━━━━━━━━━━━━━━━━━━━━━━━━━━━━━━━━━━━━\u001b[0m \u001b[32m44.0/44.0 kB\u001b[0m \u001b[31m3.3 MB/s\u001b[0m eta \u001b[36m0:00:00\u001b[0m\n",
            "\u001b[?25hCollecting pmdarima!=1.8.1,<3.0.0,>=1.8.0 (from pycaret)\n",
            "  Downloading pmdarima-2.0.3-cp310-cp310-manylinux_2_17_x86_64.manylinux2014_x86_64.manylinux_2_28_x86_64.whl (1.8 MB)\n",
            "\u001b[2K     \u001b[90m━━━━━━━━━━━━━━━━━━━━━━━━━━━━━━━━━━━━━━━━\u001b[0m \u001b[32m1.8/1.8 MB\u001b[0m \u001b[31m64.6 MB/s\u001b[0m eta \u001b[36m0:00:00\u001b[0m\n",
            "\u001b[?25hCollecting wurlitzer (from pycaret)\n",
            "  Downloading wurlitzer-3.0.3-py3-none-any.whl (7.3 kB)\n",
            "Requirement already satisfied: patsy>=0.5.1 in /usr/local/lib/python3.10/dist-packages (from category-encoders>=2.4.0->pycaret) (0.5.3)\n",
            "Requirement already satisfied: packaging in /usr/local/lib/python3.10/dist-packages (from deprecation>=2.1.0->pycaret) (23.1)\n",
            "Requirement already satisfied: threadpoolctl>=2.0.0 in /usr/local/lib/python3.10/dist-packages (from imbalanced-learn>=0.8.1->pycaret) (3.2.0)\n",
            "Requirement already satisfied: zipp>=0.5 in /usr/local/lib/python3.10/dist-packages (from importlib-metadata>=4.12.0->pycaret) (3.16.2)\n",
            "Requirement already satisfied: setuptools>=18.5 in /usr/local/lib/python3.10/dist-packages (from ipython>=5.5.0->pycaret) (67.7.2)\n",
            "Collecting jedi>=0.16 (from ipython>=5.5.0->pycaret)\n",
            "  Downloading jedi-0.19.0-py2.py3-none-any.whl (1.6 MB)\n",
            "\u001b[2K     \u001b[90m━━━━━━━━━━━━━━━━━━━━━━━━━━━━━━━━━━━━━━━━\u001b[0m \u001b[32m1.6/1.6 MB\u001b[0m \u001b[31m70.0 MB/s\u001b[0m eta \u001b[36m0:00:00\u001b[0m\n",
            "\u001b[?25hRequirement already satisfied: decorator in /usr/local/lib/python3.10/dist-packages (from ipython>=5.5.0->pycaret) (4.4.2)\n",
            "Requirement already satisfied: pickleshare in /usr/local/lib/python3.10/dist-packages (from ipython>=5.5.0->pycaret) (0.7.5)\n",
            "Requirement already satisfied: traitlets>=4.2 in /usr/local/lib/python3.10/dist-packages (from ipython>=5.5.0->pycaret) (5.7.1)\n",
            "Requirement already satisfied: prompt-toolkit!=3.0.0,!=3.0.1,<3.1.0,>=2.0.0 in /usr/local/lib/python3.10/dist-packages (from ipython>=5.5.0->pycaret) (3.0.39)\n",
            "Requirement already satisfied: pygments in /usr/local/lib/python3.10/dist-packages (from ipython>=5.5.0->pycaret) (2.16.1)\n",
            "Requirement already satisfied: backcall in /usr/local/lib/python3.10/dist-packages (from ipython>=5.5.0->pycaret) (0.2.0)\n",
            "Requirement already satisfied: matplotlib-inline in /usr/local/lib/python3.10/dist-packages (from ipython>=5.5.0->pycaret) (0.1.6)\n",
            "Requirement already satisfied: pexpect>4.3 in /usr/local/lib/python3.10/dist-packages (from ipython>=5.5.0->pycaret) (4.8.0)\n",
            "Requirement already satisfied: ipykernel>=4.5.1 in /usr/local/lib/python3.10/dist-packages (from ipywidgets>=7.6.5->pycaret) (5.5.6)\n",
            "Requirement already satisfied: ipython-genutils~=0.2.0 in /usr/local/lib/python3.10/dist-packages (from ipywidgets>=7.6.5->pycaret) (0.2.0)\n",
            "Requirement already satisfied: widgetsnbextension~=3.6.0 in /usr/local/lib/python3.10/dist-packages (from ipywidgets>=7.6.5->pycaret) (3.6.5)\n",
            "Requirement already satisfied: jupyterlab-widgets>=1.0.0 in /usr/local/lib/python3.10/dist-packages (from ipywidgets>=7.6.5->pycaret) (3.0.8)\n",
            "Requirement already satisfied: contourpy>=1.0.1 in /usr/local/lib/python3.10/dist-packages (from matplotlib>=3.3.0->pycaret) (1.1.0)\n",
            "Requirement already satisfied: cycler>=0.10 in /usr/local/lib/python3.10/dist-packages (from matplotlib>=3.3.0->pycaret) (0.11.0)\n",
            "Requirement already satisfied: fonttools>=4.22.0 in /usr/local/lib/python3.10/dist-packages (from matplotlib>=3.3.0->pycaret) (4.42.1)\n",
            "Requirement already satisfied: kiwisolver>=1.0.1 in /usr/local/lib/python3.10/dist-packages (from matplotlib>=3.3.0->pycaret) (1.4.5)\n",
            "Requirement already satisfied: pillow>=6.2.0 in /usr/local/lib/python3.10/dist-packages (from matplotlib>=3.3.0->pycaret) (9.4.0)\n",
            "Requirement already satisfied: pyparsing>=2.3.1 in /usr/local/lib/python3.10/dist-packages (from matplotlib>=3.3.0->pycaret) (3.1.1)\n",
            "Requirement already satisfied: python-dateutil>=2.7 in /usr/local/lib/python3.10/dist-packages (from matplotlib>=3.3.0->pycaret) (2.8.2)\n",
            "Requirement already satisfied: fastjsonschema in /usr/local/lib/python3.10/dist-packages (from nbformat>=4.2.0->pycaret) (2.18.0)\n",
            "Requirement already satisfied: jsonschema>=2.6 in /usr/local/lib/python3.10/dist-packages (from nbformat>=4.2.0->pycaret) (4.19.0)\n",
            "Requirement already satisfied: jupyter-core in /usr/local/lib/python3.10/dist-packages (from nbformat>=4.2.0->pycaret) (5.3.1)\n",
            "Requirement already satisfied: llvmlite<0.40,>=0.39.0dev0 in /usr/local/lib/python3.10/dist-packages (from numba>=0.55.0->pycaret) (0.39.1)\n",
            "Requirement already satisfied: pytz>=2020.1 in /usr/local/lib/python3.10/dist-packages (from pandas<2.0.0,>=1.3.0->pycaret) (2023.3.post1)\n",
            "Requirement already satisfied: tenacity>=6.2.0 in /usr/local/lib/python3.10/dist-packages (from plotly>=5.0.0->pycaret) (8.2.3)\n",
            "Collecting dash<3.0.0,>=2.11.0 (from plotly-resampler>=0.8.3.1->pycaret)\n",
            "  Downloading dash-2.13.0-py3-none-any.whl (10.4 MB)\n",
            "\u001b[2K     \u001b[90m━━━━━━━━━━━━━━━━━━━━━━━━━━━━━━━━━━━━━━━━\u001b[0m \u001b[32m10.4/10.4 MB\u001b[0m \u001b[31m78.7 MB/s\u001b[0m eta \u001b[36m0:00:00\u001b[0m\n",
            "\u001b[?25hCollecting orjson<4.0.0,>=3.8.0 (from plotly-resampler>=0.8.3.1->pycaret)\n",
            "  Downloading orjson-3.9.7-cp310-cp310-manylinux_2_17_x86_64.manylinux2014_x86_64.whl (138 kB)\n",
            "\u001b[2K     \u001b[90m━━━━━━━━━━━━━━━━━━━━━━━━━━━━━━━━━━━━━━\u001b[0m \u001b[32m138.7/138.7 kB\u001b[0m \u001b[31m11.3 MB/s\u001b[0m eta \u001b[36m0:00:00\u001b[0m\n",
            "\u001b[?25hCollecting trace-updater>=0.0.8 (from plotly-resampler>=0.8.3.1->pycaret)\n",
            "  Downloading trace_updater-0.0.9.1-py3-none-any.whl (185 kB)\n",
            "\u001b[2K     \u001b[90m━━━━━━━━━━━━━━━━━━━━━━━━━━━━━━━━━━━━━━\u001b[0m \u001b[32m185.2/185.2 kB\u001b[0m \u001b[31m16.8 MB/s\u001b[0m eta \u001b[36m0:00:00\u001b[0m\n",
            "\u001b[?25hCollecting tsdownsample==0.1.2 (from plotly-resampler>=0.8.3.1->pycaret)\n",
            "  Downloading tsdownsample-0.1.2-cp310-cp310-manylinux_2_17_x86_64.manylinux2014_x86_64.whl (2.3 MB)\n",
            "\u001b[2K     \u001b[90m━━━━━━━━━━━━━━━━━━━━━━━━━━━━━━━━━━━━━━━━\u001b[0m \u001b[32m2.3/2.3 MB\u001b[0m \u001b[31m62.7 MB/s\u001b[0m eta \u001b[36m0:00:00\u001b[0m\n",
            "\u001b[?25hRequirement already satisfied: Cython!=0.29.18,!=0.29.31,>=0.29 in /usr/local/lib/python3.10/dist-packages (from pmdarima!=1.8.1,<3.0.0,>=1.8.0->pycaret) (0.29.36)\n",
            "Requirement already satisfied: urllib3 in /usr/local/lib/python3.10/dist-packages (from pmdarima!=1.8.1,<3.0.0,>=1.8.0->pycaret) (2.0.4)\n",
            "Requirement already satisfied: six in /usr/local/lib/python3.10/dist-packages (from pyod>=1.0.8->pycaret) (1.16.0)\n",
            "Requirement already satisfied: charset-normalizer<4,>=2 in /usr/local/lib/python3.10/dist-packages (from requests>=2.27.1->pycaret) (3.2.0)\n",
            "Requirement already satisfied: idna<4,>=2.5 in /usr/local/lib/python3.10/dist-packages (from requests>=2.27.1->pycaret) (3.4)\n",
            "Requirement already satisfied: certifi>=2017.4.17 in /usr/local/lib/python3.10/dist-packages (from requests>=2.27.1->pycaret) (2023.7.22)\n",
            "Collecting scikit-base<0.6.0 (from sktime!=0.17.1,!=0.17.2,!=0.18.0,>=0.16.1->pycaret)\n",
            "  Downloading scikit_base-0.5.1-py3-none-any.whl (118 kB)\n",
            "\u001b[2K     \u001b[90m━━━━━━━━━━━━━━━━━━━━━━━━━━━━━━━━━━━━━━\u001b[0m \u001b[32m118.7/118.7 kB\u001b[0m \u001b[31m11.1 MB/s\u001b[0m eta \u001b[36m0:00:00\u001b[0m\n",
            "\u001b[?25hRequirement already satisfied: Flask<2.3.0,>=1.0.4 in /usr/local/lib/python3.10/dist-packages (from dash<3.0.0,>=2.11.0->plotly-resampler>=0.8.3.1->pycaret) (2.2.5)\n",
            "Collecting Werkzeug<2.3.0 (from dash<3.0.0,>=2.11.0->plotly-resampler>=0.8.3.1->pycaret)\n",
            "  Downloading Werkzeug-2.2.3-py3-none-any.whl (233 kB)\n",
            "\u001b[2K     \u001b[90m━━━━━━━━━━━━━━━━━━━━━━━━━━━━━━━━━━━━━━\u001b[0m \u001b[32m233.6/233.6 kB\u001b[0m \u001b[31m21.3 MB/s\u001b[0m eta \u001b[36m0:00:00\u001b[0m\n",
            "\u001b[?25hCollecting dash-html-components==2.0.0 (from dash<3.0.0,>=2.11.0->plotly-resampler>=0.8.3.1->pycaret)\n",
            "  Downloading dash_html_components-2.0.0-py3-none-any.whl (4.1 kB)\n",
            "Collecting dash-core-components==2.0.0 (from dash<3.0.0,>=2.11.0->plotly-resampler>=0.8.3.1->pycaret)\n",
            "  Downloading dash_core_components-2.0.0-py3-none-any.whl (3.8 kB)\n",
            "Collecting dash-table==5.0.0 (from dash<3.0.0,>=2.11.0->plotly-resampler>=0.8.3.1->pycaret)\n",
            "  Downloading dash_table-5.0.0-py3-none-any.whl (3.9 kB)\n",
            "Requirement already satisfied: typing-extensions>=4.1.1 in /usr/local/lib/python3.10/dist-packages (from dash<3.0.0,>=2.11.0->plotly-resampler>=0.8.3.1->pycaret) (4.5.0)\n",
            "Collecting retrying (from dash<3.0.0,>=2.11.0->plotly-resampler>=0.8.3.1->pycaret)\n",
            "  Downloading retrying-1.3.4-py3-none-any.whl (11 kB)\n",
            "Collecting ansi2html (from dash<3.0.0,>=2.11.0->plotly-resampler>=0.8.3.1->pycaret)\n",
            "  Downloading ansi2html-1.8.0-py3-none-any.whl (16 kB)\n",
            "Requirement already satisfied: nest-asyncio in /usr/local/lib/python3.10/dist-packages (from dash<3.0.0,>=2.11.0->plotly-resampler>=0.8.3.1->pycaret) (1.5.7)\n",
            "Requirement already satisfied: jupyter-client in /usr/local/lib/python3.10/dist-packages (from ipykernel>=4.5.1->ipywidgets>=7.6.5->pycaret) (6.1.12)\n",
            "Requirement already satisfied: tornado>=4.2 in /usr/local/lib/python3.10/dist-packages (from ipykernel>=4.5.1->ipywidgets>=7.6.5->pycaret) (6.3.2)\n",
            "Requirement already satisfied: parso<0.9.0,>=0.8.3 in /usr/local/lib/python3.10/dist-packages (from jedi>=0.16->ipython>=5.5.0->pycaret) (0.8.3)\n",
            "Requirement already satisfied: attrs>=22.2.0 in /usr/local/lib/python3.10/dist-packages (from jsonschema>=2.6->nbformat>=4.2.0->pycaret) (23.1.0)\n",
            "Requirement already satisfied: jsonschema-specifications>=2023.03.6 in /usr/local/lib/python3.10/dist-packages (from jsonschema>=2.6->nbformat>=4.2.0->pycaret) (2023.7.1)\n",
            "Requirement already satisfied: referencing>=0.28.4 in /usr/local/lib/python3.10/dist-packages (from jsonschema>=2.6->nbformat>=4.2.0->pycaret) (0.30.2)\n",
            "Requirement already satisfied: rpds-py>=0.7.1 in /usr/local/lib/python3.10/dist-packages (from jsonschema>=2.6->nbformat>=4.2.0->pycaret) (0.10.2)\n",
            "Requirement already satisfied: ptyprocess>=0.5 in /usr/local/lib/python3.10/dist-packages (from pexpect>4.3->ipython>=5.5.0->pycaret) (0.7.0)\n",
            "Requirement already satisfied: wcwidth in /usr/local/lib/python3.10/dist-packages (from prompt-toolkit!=3.0.0,!=3.0.1,<3.1.0,>=2.0.0->ipython>=5.5.0->pycaret) (0.2.6)\n",
            "Requirement already satisfied: notebook>=4.4.1 in /usr/local/lib/python3.10/dist-packages (from widgetsnbextension~=3.6.0->ipywidgets>=7.6.5->pycaret) (6.5.5)\n",
            "Requirement already satisfied: platformdirs>=2.5 in /usr/local/lib/python3.10/dist-packages (from jupyter-core->nbformat>=4.2.0->pycaret) (3.10.0)\n",
            "Requirement already satisfied: itsdangerous>=2.0 in /usr/local/lib/python3.10/dist-packages (from Flask<2.3.0,>=1.0.4->dash<3.0.0,>=2.11.0->plotly-resampler>=0.8.3.1->pycaret) (2.1.2)\n",
            "Requirement already satisfied: click>=8.0 in /usr/local/lib/python3.10/dist-packages (from Flask<2.3.0,>=1.0.4->dash<3.0.0,>=2.11.0->plotly-resampler>=0.8.3.1->pycaret) (8.1.7)\n",
            "Requirement already satisfied: pyzmq<25,>=17 in /usr/local/lib/python3.10/dist-packages (from notebook>=4.4.1->widgetsnbextension~=3.6.0->ipywidgets>=7.6.5->pycaret) (23.2.1)\n",
            "Requirement already satisfied: argon2-cffi in /usr/local/lib/python3.10/dist-packages (from notebook>=4.4.1->widgetsnbextension~=3.6.0->ipywidgets>=7.6.5->pycaret) (23.1.0)\n",
            "Requirement already satisfied: nbconvert>=5 in /usr/local/lib/python3.10/dist-packages (from notebook>=4.4.1->widgetsnbextension~=3.6.0->ipywidgets>=7.6.5->pycaret) (6.5.4)\n",
            "Requirement already satisfied: Send2Trash>=1.8.0 in /usr/local/lib/python3.10/dist-packages (from notebook>=4.4.1->widgetsnbextension~=3.6.0->ipywidgets>=7.6.5->pycaret) (1.8.2)\n",
            "Requirement already satisfied: terminado>=0.8.3 in /usr/local/lib/python3.10/dist-packages (from notebook>=4.4.1->widgetsnbextension~=3.6.0->ipywidgets>=7.6.5->pycaret) (0.17.1)\n",
            "Requirement already satisfied: prometheus-client in /usr/local/lib/python3.10/dist-packages (from notebook>=4.4.1->widgetsnbextension~=3.6.0->ipywidgets>=7.6.5->pycaret) (0.17.1)\n",
            "Requirement already satisfied: nbclassic>=0.4.7 in /usr/local/lib/python3.10/dist-packages (from notebook>=4.4.1->widgetsnbextension~=3.6.0->ipywidgets>=7.6.5->pycaret) (1.0.0)\n",
            "Requirement already satisfied: jupyter-server>=1.8 in /usr/local/lib/python3.10/dist-packages (from nbclassic>=0.4.7->notebook>=4.4.1->widgetsnbextension~=3.6.0->ipywidgets>=7.6.5->pycaret) (1.24.0)\n",
            "Requirement already satisfied: notebook-shim>=0.2.3 in /usr/local/lib/python3.10/dist-packages (from nbclassic>=0.4.7->notebook>=4.4.1->widgetsnbextension~=3.6.0->ipywidgets>=7.6.5->pycaret) (0.2.3)\n",
            "Requirement already satisfied: lxml in /usr/local/lib/python3.10/dist-packages (from nbconvert>=5->notebook>=4.4.1->widgetsnbextension~=3.6.0->ipywidgets>=7.6.5->pycaret) (4.9.3)\n",
            "Requirement already satisfied: beautifulsoup4 in /usr/local/lib/python3.10/dist-packages (from nbconvert>=5->notebook>=4.4.1->widgetsnbextension~=3.6.0->ipywidgets>=7.6.5->pycaret) (4.11.2)\n",
            "Requirement already satisfied: bleach in /usr/local/lib/python3.10/dist-packages (from nbconvert>=5->notebook>=4.4.1->widgetsnbextension~=3.6.0->ipywidgets>=7.6.5->pycaret) (6.0.0)\n",
            "Requirement already satisfied: defusedxml in /usr/local/lib/python3.10/dist-packages (from nbconvert>=5->notebook>=4.4.1->widgetsnbextension~=3.6.0->ipywidgets>=7.6.5->pycaret) (0.7.1)\n",
            "Requirement already satisfied: entrypoints>=0.2.2 in /usr/local/lib/python3.10/dist-packages (from nbconvert>=5->notebook>=4.4.1->widgetsnbextension~=3.6.0->ipywidgets>=7.6.5->pycaret) (0.4)\n",
            "Requirement already satisfied: jupyterlab-pygments in /usr/local/lib/python3.10/dist-packages (from nbconvert>=5->notebook>=4.4.1->widgetsnbextension~=3.6.0->ipywidgets>=7.6.5->pycaret) (0.2.2)\n",
            "Requirement already satisfied: mistune<2,>=0.8.1 in /usr/local/lib/python3.10/dist-packages (from nbconvert>=5->notebook>=4.4.1->widgetsnbextension~=3.6.0->ipywidgets>=7.6.5->pycaret) (0.8.4)\n",
            "Requirement already satisfied: nbclient>=0.5.0 in /usr/local/lib/python3.10/dist-packages (from nbconvert>=5->notebook>=4.4.1->widgetsnbextension~=3.6.0->ipywidgets>=7.6.5->pycaret) (0.8.0)\n",
            "Requirement already satisfied: pandocfilters>=1.4.1 in /usr/local/lib/python3.10/dist-packages (from nbconvert>=5->notebook>=4.4.1->widgetsnbextension~=3.6.0->ipywidgets>=7.6.5->pycaret) (1.5.0)\n",
            "Requirement already satisfied: tinycss2 in /usr/local/lib/python3.10/dist-packages (from nbconvert>=5->notebook>=4.4.1->widgetsnbextension~=3.6.0->ipywidgets>=7.6.5->pycaret) (1.2.1)\n",
            "Requirement already satisfied: argon2-cffi-bindings in /usr/local/lib/python3.10/dist-packages (from argon2-cffi->notebook>=4.4.1->widgetsnbextension~=3.6.0->ipywidgets>=7.6.5->pycaret) (21.2.0)\n",
            "Requirement already satisfied: anyio<4,>=3.1.0 in /usr/local/lib/python3.10/dist-packages (from jupyter-server>=1.8->nbclassic>=0.4.7->notebook>=4.4.1->widgetsnbextension~=3.6.0->ipywidgets>=7.6.5->pycaret) (3.7.1)\n",
            "Requirement already satisfied: websocket-client in /usr/local/lib/python3.10/dist-packages (from jupyter-server>=1.8->nbclassic>=0.4.7->notebook>=4.4.1->widgetsnbextension~=3.6.0->ipywidgets>=7.6.5->pycaret) (1.6.2)\n",
            "Requirement already satisfied: cffi>=1.0.1 in /usr/local/lib/python3.10/dist-packages (from argon2-cffi-bindings->argon2-cffi->notebook>=4.4.1->widgetsnbextension~=3.6.0->ipywidgets>=7.6.5->pycaret) (1.15.1)\n",
            "Requirement already satisfied: soupsieve>1.2 in /usr/local/lib/python3.10/dist-packages (from beautifulsoup4->nbconvert>=5->notebook>=4.4.1->widgetsnbextension~=3.6.0->ipywidgets>=7.6.5->pycaret) (2.5)\n",
            "Requirement already satisfied: webencodings in /usr/local/lib/python3.10/dist-packages (from bleach->nbconvert>=5->notebook>=4.4.1->widgetsnbextension~=3.6.0->ipywidgets>=7.6.5->pycaret) (0.5.1)\n",
            "Requirement already satisfied: sniffio>=1.1 in /usr/local/lib/python3.10/dist-packages (from anyio<4,>=3.1.0->jupyter-server>=1.8->nbclassic>=0.4.7->notebook>=4.4.1->widgetsnbextension~=3.6.0->ipywidgets>=7.6.5->pycaret) (1.3.0)\n",
            "Requirement already satisfied: exceptiongroup in /usr/local/lib/python3.10/dist-packages (from anyio<4,>=3.1.0->jupyter-server>=1.8->nbclassic>=0.4.7->notebook>=4.4.1->widgetsnbextension~=3.6.0->ipywidgets>=7.6.5->pycaret) (1.1.3)\n",
            "Requirement already satisfied: pycparser in /usr/local/lib/python3.10/dist-packages (from cffi>=1.0.1->argon2-cffi-bindings->argon2-cffi->notebook>=4.4.1->widgetsnbextension~=3.6.0->ipywidgets>=7.6.5->pycaret) (2.21)\n",
            "Building wheels for collected packages: pyod\n",
            "  Building wheel for pyod (setup.py) ... \u001b[?25l\u001b[?25hdone\n",
            "  Created wheel for pyod: filename=pyod-1.1.0-py3-none-any.whl size=185329 sha256=75f4515d7efd89f76b74f0d2b8c1b506fd4d05c7e914eba525a18b32031aa5f3\n",
            "  Stored in directory: /root/.cache/pip/wheels/36/8e/e2/e932956b10b843eb6be9eefa70b5c1bee7b561be14c423b136\n",
            "Successfully built pyod\n",
            "Installing collected packages: trace-updater, kaleido, dash-table, dash-html-components, dash-core-components, xxhash, wurlitzer, Werkzeug, tsdownsample, scikit-base, schemdraw, retrying, orjson, jedi, deprecation, ansi2html, sktime, scikit-plot, pyod, dash, pmdarima, plotly-resampler, category-encoders, tbats, pycaret\n",
            "  Attempting uninstall: Werkzeug\n",
            "    Found existing installation: Werkzeug 2.3.7\n",
            "    Uninstalling Werkzeug-2.3.7:\n",
            "      Successfully uninstalled Werkzeug-2.3.7\n",
            "Successfully installed Werkzeug-2.2.3 ansi2html-1.8.0 category-encoders-2.6.2 dash-2.13.0 dash-core-components-2.0.0 dash-html-components-2.0.0 dash-table-5.0.0 deprecation-2.1.0 jedi-0.19.0 kaleido-0.2.1 orjson-3.9.7 plotly-resampler-0.9.1 pmdarima-2.0.3 pycaret-3.0.4 pyod-1.1.0 retrying-1.3.4 schemdraw-0.15 scikit-base-0.5.1 scikit-plot-0.3.7 sktime-0.22.0 tbats-1.1.3 trace-updater-0.0.9.1 tsdownsample-0.1.2 wurlitzer-3.0.3 xxhash-3.3.0\n"
          ]
        }
      ]
    },
    {
      "cell_type": "code",
      "source": [
        "import pandas as pd #these two packages are useful for the whole assignment\n",
        "import pycaret"
      ],
      "metadata": {
        "id": "msQab3CuYBYT"
      },
      "execution_count": 7,
      "outputs": []
    },
    {
      "cell_type": "markdown",
      "source": [
        "## Classification"
      ],
      "metadata": {
        "id": "UjoV3gKEWwes"
      }
    },
    {
      "cell_type": "markdown",
      "source": [
        "### Binary Classification"
      ],
      "metadata": {
        "id": "b_MmNw9XWxmC"
      }
    },
    {
      "cell_type": "markdown",
      "source": [
        "#### Setup Stage"
      ],
      "metadata": {
        "id": "8Vp-0V31viVQ"
      }
    },
    {
      "cell_type": "code",
      "source": [
        "from pycaret.classification import * #these packages are useful for the classification section of this assignment\n",
        "from pycaret.classification import ClassificationExperiment"
      ],
      "metadata": {
        "id": "KwmbzmCgjQkd"
      },
      "execution_count": 8,
      "outputs": []
    },
    {
      "cell_type": "code",
      "source": [
        "#importing the prepared image metadata from the National Gallery of Arts OpenData program (a Creative Commons github repo)\n",
        "latinamerican_art = pd.read_csv('latinamerican_art.csv', error_bad_lines=False, warn_bad_lines=False)\n",
        "non_latinamerican_art = pd.read_csv('non_latinamerican_art.csv',  error_bad_lines=False, warn_bad_lines=False)"
      ],
      "metadata": {
        "id": "ueSN-G7wo8AJ"
      },
      "execution_count": 11,
      "outputs": []
    },
    {
      "cell_type": "code",
      "source": [
        "#As you can see we have a very small latin american dataset of artwork for which we wish to identify and classify\n",
        "print(latinamerican_art.shape)\n",
        "print(non_latinamerican_art.shape)"
      ],
      "metadata": {
        "colab": {
          "base_uri": "https://localhost:8080/"
        },
        "id": "UM6ESc0kqvR8",
        "outputId": "4a9b9b3f-54da-422a-8770-f2a6a88842ae"
      },
      "execution_count": 12,
      "outputs": [
        {
          "output_type": "stream",
          "name": "stdout",
          "text": [
            "(628, 40)\n",
            "(14068, 40)\n"
          ]
        }
      ]
    },
    {
      "cell_type": "code",
      "source": [
        "# I will create the Y-feature (is_latinamerican) as a Boolean (0/1)\n",
        "latinamerican_art['is_latinamerican'] = [1] * len(latinamerican_art)\n",
        "non_latinamerican_art['is_latinamerican'] = [0] * len(non_latinamerican_art)"
      ],
      "metadata": {
        "id": "RF2JuO4prDSO"
      },
      "execution_count": 97,
      "outputs": []
    },
    {
      "cell_type": "code",
      "source": [
        "# I will concatenate the datasets so the algorithm can randomize and split for generalized training\n",
        "nga_artwork_metadata = pd.concat([latinamerican_art, non_latinamerican_art])"
      ],
      "metadata": {
        "id": "HObsrHFTrfPn"
      },
      "execution_count": 98,
      "outputs": []
    },
    {
      "cell_type": "code",
      "source": [
        "nga_artwork_metadata.reset_index(drop=True, inplace=True)"
      ],
      "metadata": {
        "id": "0PEM1hYFr4FI"
      },
      "execution_count": 99,
      "outputs": []
    },
    {
      "cell_type": "code",
      "source": [
        "classify_artwork_setup = setup(nga_artwork_metadata, target = 'is_latinamerican', session_id=777)"
      ],
      "metadata": {
        "colab": {
          "base_uri": "https://localhost:8080/",
          "height": 771
        },
        "id": "NplLKAi1hGmW",
        "outputId": "03226cf4-6224-4a4f-964b-547e2ba3d001"
      },
      "execution_count": 17,
      "outputs": [
        {
          "output_type": "display_data",
          "data": {
            "text/plain": [
              "<pandas.io.formats.style.Styler at 0x7901b56df820>"
            ],
            "text/html": [
              "<style type=\"text/css\">\n",
              "#T_b3ce6_row10_col1 {\n",
              "  background-color: lightgreen;\n",
              "}\n",
              "</style>\n",
              "<table id=\"T_b3ce6\" class=\"dataframe\">\n",
              "  <thead>\n",
              "    <tr>\n",
              "      <th class=\"blank level0\" >&nbsp;</th>\n",
              "      <th id=\"T_b3ce6_level0_col0\" class=\"col_heading level0 col0\" >Description</th>\n",
              "      <th id=\"T_b3ce6_level0_col1\" class=\"col_heading level0 col1\" >Value</th>\n",
              "    </tr>\n",
              "  </thead>\n",
              "  <tbody>\n",
              "    <tr>\n",
              "      <th id=\"T_b3ce6_level0_row0\" class=\"row_heading level0 row0\" >0</th>\n",
              "      <td id=\"T_b3ce6_row0_col0\" class=\"data row0 col0\" >Session id</td>\n",
              "      <td id=\"T_b3ce6_row0_col1\" class=\"data row0 col1\" >6130</td>\n",
              "    </tr>\n",
              "    <tr>\n",
              "      <th id=\"T_b3ce6_level0_row1\" class=\"row_heading level0 row1\" >1</th>\n",
              "      <td id=\"T_b3ce6_row1_col0\" class=\"data row1 col0\" >Target</td>\n",
              "      <td id=\"T_b3ce6_row1_col1\" class=\"data row1 col1\" >is_latinamerican</td>\n",
              "    </tr>\n",
              "    <tr>\n",
              "      <th id=\"T_b3ce6_level0_row2\" class=\"row_heading level0 row2\" >2</th>\n",
              "      <td id=\"T_b3ce6_row2_col0\" class=\"data row2 col0\" >Target type</td>\n",
              "      <td id=\"T_b3ce6_row2_col1\" class=\"data row2 col1\" >Binary</td>\n",
              "    </tr>\n",
              "    <tr>\n",
              "      <th id=\"T_b3ce6_level0_row3\" class=\"row_heading level0 row3\" >3</th>\n",
              "      <td id=\"T_b3ce6_row3_col0\" class=\"data row3 col0\" >Original data shape</td>\n",
              "      <td id=\"T_b3ce6_row3_col1\" class=\"data row3 col1\" >(14696, 41)</td>\n",
              "    </tr>\n",
              "    <tr>\n",
              "      <th id=\"T_b3ce6_level0_row4\" class=\"row_heading level0 row4\" >4</th>\n",
              "      <td id=\"T_b3ce6_row4_col0\" class=\"data row4 col0\" >Transformed data shape</td>\n",
              "      <td id=\"T_b3ce6_row4_col1\" class=\"data row4 col1\" >(14696, 116)</td>\n",
              "    </tr>\n",
              "    <tr>\n",
              "      <th id=\"T_b3ce6_level0_row5\" class=\"row_heading level0 row5\" >5</th>\n",
              "      <td id=\"T_b3ce6_row5_col0\" class=\"data row5 col0\" >Transformed train set shape</td>\n",
              "      <td id=\"T_b3ce6_row5_col1\" class=\"data row5 col1\" >(10287, 116)</td>\n",
              "    </tr>\n",
              "    <tr>\n",
              "      <th id=\"T_b3ce6_level0_row6\" class=\"row_heading level0 row6\" >6</th>\n",
              "      <td id=\"T_b3ce6_row6_col0\" class=\"data row6 col0\" >Transformed test set shape</td>\n",
              "      <td id=\"T_b3ce6_row6_col1\" class=\"data row6 col1\" >(4409, 116)</td>\n",
              "    </tr>\n",
              "    <tr>\n",
              "      <th id=\"T_b3ce6_level0_row7\" class=\"row_heading level0 row7\" >7</th>\n",
              "      <td id=\"T_b3ce6_row7_col0\" class=\"data row7 col0\" >Numeric features</td>\n",
              "      <td id=\"T_b3ce6_row7_col1\" class=\"data row7 col1\" >8</td>\n",
              "    </tr>\n",
              "    <tr>\n",
              "      <th id=\"T_b3ce6_level0_row8\" class=\"row_heading level0 row8\" >8</th>\n",
              "      <td id=\"T_b3ce6_row8_col0\" class=\"data row8 col0\" >Categorical features</td>\n",
              "      <td id=\"T_b3ce6_row8_col1\" class=\"data row8 col1\" >32</td>\n",
              "    </tr>\n",
              "    <tr>\n",
              "      <th id=\"T_b3ce6_level0_row9\" class=\"row_heading level0 row9\" >9</th>\n",
              "      <td id=\"T_b3ce6_row9_col0\" class=\"data row9 col0\" >Rows with missing values</td>\n",
              "      <td id=\"T_b3ce6_row9_col1\" class=\"data row9 col1\" >100.0%</td>\n",
              "    </tr>\n",
              "    <tr>\n",
              "      <th id=\"T_b3ce6_level0_row10\" class=\"row_heading level0 row10\" >10</th>\n",
              "      <td id=\"T_b3ce6_row10_col0\" class=\"data row10 col0\" >Preprocess</td>\n",
              "      <td id=\"T_b3ce6_row10_col1\" class=\"data row10 col1\" >True</td>\n",
              "    </tr>\n",
              "    <tr>\n",
              "      <th id=\"T_b3ce6_level0_row11\" class=\"row_heading level0 row11\" >11</th>\n",
              "      <td id=\"T_b3ce6_row11_col0\" class=\"data row11 col0\" >Imputation type</td>\n",
              "      <td id=\"T_b3ce6_row11_col1\" class=\"data row11 col1\" >simple</td>\n",
              "    </tr>\n",
              "    <tr>\n",
              "      <th id=\"T_b3ce6_level0_row12\" class=\"row_heading level0 row12\" >12</th>\n",
              "      <td id=\"T_b3ce6_row12_col0\" class=\"data row12 col0\" >Numeric imputation</td>\n",
              "      <td id=\"T_b3ce6_row12_col1\" class=\"data row12 col1\" >mean</td>\n",
              "    </tr>\n",
              "    <tr>\n",
              "      <th id=\"T_b3ce6_level0_row13\" class=\"row_heading level0 row13\" >13</th>\n",
              "      <td id=\"T_b3ce6_row13_col0\" class=\"data row13 col0\" >Categorical imputation</td>\n",
              "      <td id=\"T_b3ce6_row13_col1\" class=\"data row13 col1\" >mode</td>\n",
              "    </tr>\n",
              "    <tr>\n",
              "      <th id=\"T_b3ce6_level0_row14\" class=\"row_heading level0 row14\" >14</th>\n",
              "      <td id=\"T_b3ce6_row14_col0\" class=\"data row14 col0\" >Maximum one-hot encoding</td>\n",
              "      <td id=\"T_b3ce6_row14_col1\" class=\"data row14 col1\" >25</td>\n",
              "    </tr>\n",
              "    <tr>\n",
              "      <th id=\"T_b3ce6_level0_row15\" class=\"row_heading level0 row15\" >15</th>\n",
              "      <td id=\"T_b3ce6_row15_col0\" class=\"data row15 col0\" >Encoding method</td>\n",
              "      <td id=\"T_b3ce6_row15_col1\" class=\"data row15 col1\" >None</td>\n",
              "    </tr>\n",
              "    <tr>\n",
              "      <th id=\"T_b3ce6_level0_row16\" class=\"row_heading level0 row16\" >16</th>\n",
              "      <td id=\"T_b3ce6_row16_col0\" class=\"data row16 col0\" >Fold Generator</td>\n",
              "      <td id=\"T_b3ce6_row16_col1\" class=\"data row16 col1\" >StratifiedKFold</td>\n",
              "    </tr>\n",
              "    <tr>\n",
              "      <th id=\"T_b3ce6_level0_row17\" class=\"row_heading level0 row17\" >17</th>\n",
              "      <td id=\"T_b3ce6_row17_col0\" class=\"data row17 col0\" >Fold Number</td>\n",
              "      <td id=\"T_b3ce6_row17_col1\" class=\"data row17 col1\" >10</td>\n",
              "    </tr>\n",
              "    <tr>\n",
              "      <th id=\"T_b3ce6_level0_row18\" class=\"row_heading level0 row18\" >18</th>\n",
              "      <td id=\"T_b3ce6_row18_col0\" class=\"data row18 col0\" >CPU Jobs</td>\n",
              "      <td id=\"T_b3ce6_row18_col1\" class=\"data row18 col1\" >-1</td>\n",
              "    </tr>\n",
              "    <tr>\n",
              "      <th id=\"T_b3ce6_level0_row19\" class=\"row_heading level0 row19\" >19</th>\n",
              "      <td id=\"T_b3ce6_row19_col0\" class=\"data row19 col0\" >Use GPU</td>\n",
              "      <td id=\"T_b3ce6_row19_col1\" class=\"data row19 col1\" >False</td>\n",
              "    </tr>\n",
              "    <tr>\n",
              "      <th id=\"T_b3ce6_level0_row20\" class=\"row_heading level0 row20\" >20</th>\n",
              "      <td id=\"T_b3ce6_row20_col0\" class=\"data row20 col0\" >Log Experiment</td>\n",
              "      <td id=\"T_b3ce6_row20_col1\" class=\"data row20 col1\" >False</td>\n",
              "    </tr>\n",
              "    <tr>\n",
              "      <th id=\"T_b3ce6_level0_row21\" class=\"row_heading level0 row21\" >21</th>\n",
              "      <td id=\"T_b3ce6_row21_col0\" class=\"data row21 col0\" >Experiment Name</td>\n",
              "      <td id=\"T_b3ce6_row21_col1\" class=\"data row21 col1\" >clf-default-name</td>\n",
              "    </tr>\n",
              "    <tr>\n",
              "      <th id=\"T_b3ce6_level0_row22\" class=\"row_heading level0 row22\" >22</th>\n",
              "      <td id=\"T_b3ce6_row22_col0\" class=\"data row22 col0\" >USI</td>\n",
              "      <td id=\"T_b3ce6_row22_col1\" class=\"data row22 col1\" >ffbf</td>\n",
              "    </tr>\n",
              "  </tbody>\n",
              "</table>\n"
            ]
          },
          "metadata": {}
        }
      ]
    },
    {
      "cell_type": "code",
      "source": [
        "classification_isLatinAmerican_artwork = ClassificationExperiment()\n"
      ],
      "metadata": {
        "id": "gdowPO-fRvMb"
      },
      "execution_count": 18,
      "outputs": []
    },
    {
      "cell_type": "code",
      "source": [
        "classification_isLatinAmerican_artwork.setup(nga_artwork_metadata, target='is_latinamerican', session_id = 777)"
      ],
      "metadata": {
        "colab": {
          "base_uri": "https://localhost:8080/",
          "height": 788
        },
        "id": "QcPquL_avD0W",
        "outputId": "9d9ff1c4-8c5e-4454-84ad-9ebc87837aac"
      },
      "execution_count": 19,
      "outputs": [
        {
          "output_type": "display_data",
          "data": {
            "text/plain": [
              "<pandas.io.formats.style.Styler at 0x7901b561fdf0>"
            ],
            "text/html": [
              "<style type=\"text/css\">\n",
              "#T_58dcb_row10_col1 {\n",
              "  background-color: lightgreen;\n",
              "}\n",
              "</style>\n",
              "<table id=\"T_58dcb\" class=\"dataframe\">\n",
              "  <thead>\n",
              "    <tr>\n",
              "      <th class=\"blank level0\" >&nbsp;</th>\n",
              "      <th id=\"T_58dcb_level0_col0\" class=\"col_heading level0 col0\" >Description</th>\n",
              "      <th id=\"T_58dcb_level0_col1\" class=\"col_heading level0 col1\" >Value</th>\n",
              "    </tr>\n",
              "  </thead>\n",
              "  <tbody>\n",
              "    <tr>\n",
              "      <th id=\"T_58dcb_level0_row0\" class=\"row_heading level0 row0\" >0</th>\n",
              "      <td id=\"T_58dcb_row0_col0\" class=\"data row0 col0\" >Session id</td>\n",
              "      <td id=\"T_58dcb_row0_col1\" class=\"data row0 col1\" >777</td>\n",
              "    </tr>\n",
              "    <tr>\n",
              "      <th id=\"T_58dcb_level0_row1\" class=\"row_heading level0 row1\" >1</th>\n",
              "      <td id=\"T_58dcb_row1_col0\" class=\"data row1 col0\" >Target</td>\n",
              "      <td id=\"T_58dcb_row1_col1\" class=\"data row1 col1\" >is_latinamerican</td>\n",
              "    </tr>\n",
              "    <tr>\n",
              "      <th id=\"T_58dcb_level0_row2\" class=\"row_heading level0 row2\" >2</th>\n",
              "      <td id=\"T_58dcb_row2_col0\" class=\"data row2 col0\" >Target type</td>\n",
              "      <td id=\"T_58dcb_row2_col1\" class=\"data row2 col1\" >Binary</td>\n",
              "    </tr>\n",
              "    <tr>\n",
              "      <th id=\"T_58dcb_level0_row3\" class=\"row_heading level0 row3\" >3</th>\n",
              "      <td id=\"T_58dcb_row3_col0\" class=\"data row3 col0\" >Original data shape</td>\n",
              "      <td id=\"T_58dcb_row3_col1\" class=\"data row3 col1\" >(14696, 41)</td>\n",
              "    </tr>\n",
              "    <tr>\n",
              "      <th id=\"T_58dcb_level0_row4\" class=\"row_heading level0 row4\" >4</th>\n",
              "      <td id=\"T_58dcb_row4_col0\" class=\"data row4 col0\" >Transformed data shape</td>\n",
              "      <td id=\"T_58dcb_row4_col1\" class=\"data row4 col1\" >(14696, 126)</td>\n",
              "    </tr>\n",
              "    <tr>\n",
              "      <th id=\"T_58dcb_level0_row5\" class=\"row_heading level0 row5\" >5</th>\n",
              "      <td id=\"T_58dcb_row5_col0\" class=\"data row5 col0\" >Transformed train set shape</td>\n",
              "      <td id=\"T_58dcb_row5_col1\" class=\"data row5 col1\" >(10287, 126)</td>\n",
              "    </tr>\n",
              "    <tr>\n",
              "      <th id=\"T_58dcb_level0_row6\" class=\"row_heading level0 row6\" >6</th>\n",
              "      <td id=\"T_58dcb_row6_col0\" class=\"data row6 col0\" >Transformed test set shape</td>\n",
              "      <td id=\"T_58dcb_row6_col1\" class=\"data row6 col1\" >(4409, 126)</td>\n",
              "    </tr>\n",
              "    <tr>\n",
              "      <th id=\"T_58dcb_level0_row7\" class=\"row_heading level0 row7\" >7</th>\n",
              "      <td id=\"T_58dcb_row7_col0\" class=\"data row7 col0\" >Numeric features</td>\n",
              "      <td id=\"T_58dcb_row7_col1\" class=\"data row7 col1\" >8</td>\n",
              "    </tr>\n",
              "    <tr>\n",
              "      <th id=\"T_58dcb_level0_row8\" class=\"row_heading level0 row8\" >8</th>\n",
              "      <td id=\"T_58dcb_row8_col0\" class=\"data row8 col0\" >Categorical features</td>\n",
              "      <td id=\"T_58dcb_row8_col1\" class=\"data row8 col1\" >32</td>\n",
              "    </tr>\n",
              "    <tr>\n",
              "      <th id=\"T_58dcb_level0_row9\" class=\"row_heading level0 row9\" >9</th>\n",
              "      <td id=\"T_58dcb_row9_col0\" class=\"data row9 col0\" >Rows with missing values</td>\n",
              "      <td id=\"T_58dcb_row9_col1\" class=\"data row9 col1\" >100.0%</td>\n",
              "    </tr>\n",
              "    <tr>\n",
              "      <th id=\"T_58dcb_level0_row10\" class=\"row_heading level0 row10\" >10</th>\n",
              "      <td id=\"T_58dcb_row10_col0\" class=\"data row10 col0\" >Preprocess</td>\n",
              "      <td id=\"T_58dcb_row10_col1\" class=\"data row10 col1\" >True</td>\n",
              "    </tr>\n",
              "    <tr>\n",
              "      <th id=\"T_58dcb_level0_row11\" class=\"row_heading level0 row11\" >11</th>\n",
              "      <td id=\"T_58dcb_row11_col0\" class=\"data row11 col0\" >Imputation type</td>\n",
              "      <td id=\"T_58dcb_row11_col1\" class=\"data row11 col1\" >simple</td>\n",
              "    </tr>\n",
              "    <tr>\n",
              "      <th id=\"T_58dcb_level0_row12\" class=\"row_heading level0 row12\" >12</th>\n",
              "      <td id=\"T_58dcb_row12_col0\" class=\"data row12 col0\" >Numeric imputation</td>\n",
              "      <td id=\"T_58dcb_row12_col1\" class=\"data row12 col1\" >mean</td>\n",
              "    </tr>\n",
              "    <tr>\n",
              "      <th id=\"T_58dcb_level0_row13\" class=\"row_heading level0 row13\" >13</th>\n",
              "      <td id=\"T_58dcb_row13_col0\" class=\"data row13 col0\" >Categorical imputation</td>\n",
              "      <td id=\"T_58dcb_row13_col1\" class=\"data row13 col1\" >mode</td>\n",
              "    </tr>\n",
              "    <tr>\n",
              "      <th id=\"T_58dcb_level0_row14\" class=\"row_heading level0 row14\" >14</th>\n",
              "      <td id=\"T_58dcb_row14_col0\" class=\"data row14 col0\" >Maximum one-hot encoding</td>\n",
              "      <td id=\"T_58dcb_row14_col1\" class=\"data row14 col1\" >25</td>\n",
              "    </tr>\n",
              "    <tr>\n",
              "      <th id=\"T_58dcb_level0_row15\" class=\"row_heading level0 row15\" >15</th>\n",
              "      <td id=\"T_58dcb_row15_col0\" class=\"data row15 col0\" >Encoding method</td>\n",
              "      <td id=\"T_58dcb_row15_col1\" class=\"data row15 col1\" >None</td>\n",
              "    </tr>\n",
              "    <tr>\n",
              "      <th id=\"T_58dcb_level0_row16\" class=\"row_heading level0 row16\" >16</th>\n",
              "      <td id=\"T_58dcb_row16_col0\" class=\"data row16 col0\" >Fold Generator</td>\n",
              "      <td id=\"T_58dcb_row16_col1\" class=\"data row16 col1\" >StratifiedKFold</td>\n",
              "    </tr>\n",
              "    <tr>\n",
              "      <th id=\"T_58dcb_level0_row17\" class=\"row_heading level0 row17\" >17</th>\n",
              "      <td id=\"T_58dcb_row17_col0\" class=\"data row17 col0\" >Fold Number</td>\n",
              "      <td id=\"T_58dcb_row17_col1\" class=\"data row17 col1\" >10</td>\n",
              "    </tr>\n",
              "    <tr>\n",
              "      <th id=\"T_58dcb_level0_row18\" class=\"row_heading level0 row18\" >18</th>\n",
              "      <td id=\"T_58dcb_row18_col0\" class=\"data row18 col0\" >CPU Jobs</td>\n",
              "      <td id=\"T_58dcb_row18_col1\" class=\"data row18 col1\" >-1</td>\n",
              "    </tr>\n",
              "    <tr>\n",
              "      <th id=\"T_58dcb_level0_row19\" class=\"row_heading level0 row19\" >19</th>\n",
              "      <td id=\"T_58dcb_row19_col0\" class=\"data row19 col0\" >Use GPU</td>\n",
              "      <td id=\"T_58dcb_row19_col1\" class=\"data row19 col1\" >False</td>\n",
              "    </tr>\n",
              "    <tr>\n",
              "      <th id=\"T_58dcb_level0_row20\" class=\"row_heading level0 row20\" >20</th>\n",
              "      <td id=\"T_58dcb_row20_col0\" class=\"data row20 col0\" >Log Experiment</td>\n",
              "      <td id=\"T_58dcb_row20_col1\" class=\"data row20 col1\" >False</td>\n",
              "    </tr>\n",
              "    <tr>\n",
              "      <th id=\"T_58dcb_level0_row21\" class=\"row_heading level0 row21\" >21</th>\n",
              "      <td id=\"T_58dcb_row21_col0\" class=\"data row21 col0\" >Experiment Name</td>\n",
              "      <td id=\"T_58dcb_row21_col1\" class=\"data row21 col1\" >clf-default-name</td>\n",
              "    </tr>\n",
              "    <tr>\n",
              "      <th id=\"T_58dcb_level0_row22\" class=\"row_heading level0 row22\" >22</th>\n",
              "      <td id=\"T_58dcb_row22_col0\" class=\"data row22 col0\" >USI</td>\n",
              "      <td id=\"T_58dcb_row22_col1\" class=\"data row22 col1\" >c0ab</td>\n",
              "    </tr>\n",
              "  </tbody>\n",
              "</table>\n"
            ]
          },
          "metadata": {}
        },
        {
          "output_type": "execute_result",
          "data": {
            "text/plain": [
              "<pycaret.classification.oop.ClassificationExperiment at 0x7901b5675990>"
            ]
          },
          "metadata": {},
          "execution_count": 19
        }
      ]
    },
    {
      "cell_type": "markdown",
      "source": [
        "#### Model Selection Stage"
      ],
      "metadata": {
        "id": "jWTXt45Fvnz_"
      }
    },
    {
      "cell_type": "code",
      "source": [
        "model_classification_isLatinAmerican_artwork = compare_models()"
      ],
      "metadata": {
        "colab": {
          "base_uri": "https://localhost:8080/",
          "height": 488,
          "referenced_widgets": [
            "8ea816d1d06a46bfbbcd14446d1a4e12",
            "9c144ffaabd64f3c8d60e254f031051e",
            "705807d400ab4e079f378a128bca419b",
            "5701e76e42ff4a2a97bb7e7e08c6f651",
            "a5e1496cc3154ea994bdd8f33a0a84ea",
            "1729e56316094ae9a1a63dae035e6488",
            "07f82980587c43c2bea80d45b6587c0c",
            "3940d293205a4537a510e567ee282b88",
            "c796a2bbfd1c4f26bcbec83ab4eb1f46",
            "77214e6f14434dce9fafc3409773bc47",
            "2fe056c538bb4998b2bb723af49af3da"
          ]
        },
        "id": "J0vy2osgvqir",
        "outputId": "fa18da5b-4290-41d5-b577-4b89592771d9"
      },
      "execution_count": 20,
      "outputs": [
        {
          "output_type": "display_data",
          "data": {
            "text/plain": [
              "<IPython.core.display.HTML object>"
            ],
            "text/html": []
          },
          "metadata": {}
        },
        {
          "output_type": "display_data",
          "data": {
            "text/plain": [
              "<pandas.io.formats.style.Styler at 0x7901c6764c10>"
            ],
            "text/html": [
              "<style type=\"text/css\">\n",
              "#T_2e7ce th {\n",
              "  text-align: left;\n",
              "}\n",
              "#T_2e7ce_row0_col0, #T_2e7ce_row1_col0, #T_2e7ce_row1_col2, #T_2e7ce_row2_col0, #T_2e7ce_row3_col0, #T_2e7ce_row4_col0, #T_2e7ce_row5_col0, #T_2e7ce_row6_col0, #T_2e7ce_row7_col0, #T_2e7ce_row7_col1, #T_2e7ce_row7_col3, #T_2e7ce_row7_col5, #T_2e7ce_row7_col6, #T_2e7ce_row7_col7, #T_2e7ce_row8_col0, #T_2e7ce_row8_col1, #T_2e7ce_row8_col3, #T_2e7ce_row8_col5, #T_2e7ce_row8_col6, #T_2e7ce_row8_col7, #T_2e7ce_row9_col0, #T_2e7ce_row9_col1, #T_2e7ce_row9_col2, #T_2e7ce_row9_col3, #T_2e7ce_row9_col4, #T_2e7ce_row9_col5, #T_2e7ce_row9_col6, #T_2e7ce_row9_col7, #T_2e7ce_row10_col0, #T_2e7ce_row10_col1, #T_2e7ce_row10_col2, #T_2e7ce_row10_col3, #T_2e7ce_row10_col4, #T_2e7ce_row10_col5, #T_2e7ce_row10_col6, #T_2e7ce_row10_col7, #T_2e7ce_row11_col0, #T_2e7ce_row11_col1, #T_2e7ce_row11_col2, #T_2e7ce_row11_col3, #T_2e7ce_row11_col4, #T_2e7ce_row11_col5, #T_2e7ce_row11_col6, #T_2e7ce_row11_col7, #T_2e7ce_row12_col0, #T_2e7ce_row12_col1, #T_2e7ce_row12_col2, #T_2e7ce_row12_col3, #T_2e7ce_row12_col4, #T_2e7ce_row12_col5, #T_2e7ce_row12_col6, #T_2e7ce_row12_col7, #T_2e7ce_row13_col0, #T_2e7ce_row13_col1, #T_2e7ce_row13_col2, #T_2e7ce_row13_col3, #T_2e7ce_row13_col4, #T_2e7ce_row13_col5, #T_2e7ce_row13_col6, #T_2e7ce_row13_col7 {\n",
              "  text-align: left;\n",
              "}\n",
              "#T_2e7ce_row0_col1, #T_2e7ce_row0_col2, #T_2e7ce_row0_col3, #T_2e7ce_row0_col4, #T_2e7ce_row0_col5, #T_2e7ce_row0_col6, #T_2e7ce_row0_col7, #T_2e7ce_row1_col1, #T_2e7ce_row1_col3, #T_2e7ce_row1_col4, #T_2e7ce_row1_col5, #T_2e7ce_row1_col6, #T_2e7ce_row1_col7, #T_2e7ce_row2_col1, #T_2e7ce_row2_col2, #T_2e7ce_row2_col3, #T_2e7ce_row2_col4, #T_2e7ce_row2_col5, #T_2e7ce_row2_col6, #T_2e7ce_row2_col7, #T_2e7ce_row3_col1, #T_2e7ce_row3_col2, #T_2e7ce_row3_col3, #T_2e7ce_row3_col4, #T_2e7ce_row3_col5, #T_2e7ce_row3_col6, #T_2e7ce_row3_col7, #T_2e7ce_row4_col1, #T_2e7ce_row4_col2, #T_2e7ce_row4_col3, #T_2e7ce_row4_col4, #T_2e7ce_row4_col5, #T_2e7ce_row4_col6, #T_2e7ce_row4_col7, #T_2e7ce_row5_col1, #T_2e7ce_row5_col2, #T_2e7ce_row5_col3, #T_2e7ce_row5_col4, #T_2e7ce_row5_col5, #T_2e7ce_row5_col6, #T_2e7ce_row5_col7, #T_2e7ce_row6_col1, #T_2e7ce_row6_col2, #T_2e7ce_row6_col3, #T_2e7ce_row6_col4, #T_2e7ce_row6_col5, #T_2e7ce_row6_col6, #T_2e7ce_row6_col7, #T_2e7ce_row7_col2, #T_2e7ce_row7_col4, #T_2e7ce_row8_col2, #T_2e7ce_row8_col4 {\n",
              "  text-align: left;\n",
              "  background-color: yellow;\n",
              "}\n",
              "#T_2e7ce_row0_col8, #T_2e7ce_row2_col8, #T_2e7ce_row3_col8, #T_2e7ce_row4_col8, #T_2e7ce_row5_col8, #T_2e7ce_row6_col8, #T_2e7ce_row7_col8, #T_2e7ce_row8_col8, #T_2e7ce_row9_col8, #T_2e7ce_row10_col8, #T_2e7ce_row11_col8, #T_2e7ce_row12_col8, #T_2e7ce_row13_col8 {\n",
              "  text-align: left;\n",
              "  background-color: lightgrey;\n",
              "}\n",
              "#T_2e7ce_row1_col8 {\n",
              "  text-align: left;\n",
              "  background-color: yellow;\n",
              "  background-color: lightgrey;\n",
              "}\n",
              "</style>\n",
              "<table id=\"T_2e7ce\" class=\"dataframe\">\n",
              "  <thead>\n",
              "    <tr>\n",
              "      <th class=\"blank level0\" >&nbsp;</th>\n",
              "      <th id=\"T_2e7ce_level0_col0\" class=\"col_heading level0 col0\" >Model</th>\n",
              "      <th id=\"T_2e7ce_level0_col1\" class=\"col_heading level0 col1\" >Accuracy</th>\n",
              "      <th id=\"T_2e7ce_level0_col2\" class=\"col_heading level0 col2\" >AUC</th>\n",
              "      <th id=\"T_2e7ce_level0_col3\" class=\"col_heading level0 col3\" >Recall</th>\n",
              "      <th id=\"T_2e7ce_level0_col4\" class=\"col_heading level0 col4\" >Prec.</th>\n",
              "      <th id=\"T_2e7ce_level0_col5\" class=\"col_heading level0 col5\" >F1</th>\n",
              "      <th id=\"T_2e7ce_level0_col6\" class=\"col_heading level0 col6\" >Kappa</th>\n",
              "      <th id=\"T_2e7ce_level0_col7\" class=\"col_heading level0 col7\" >MCC</th>\n",
              "      <th id=\"T_2e7ce_level0_col8\" class=\"col_heading level0 col8\" >TT (Sec)</th>\n",
              "    </tr>\n",
              "  </thead>\n",
              "  <tbody>\n",
              "    <tr>\n",
              "      <th id=\"T_2e7ce_level0_row0\" class=\"row_heading level0 row0\" >dt</th>\n",
              "      <td id=\"T_2e7ce_row0_col0\" class=\"data row0 col0\" >Decision Tree Classifier</td>\n",
              "      <td id=\"T_2e7ce_row0_col1\" class=\"data row0 col1\" >0.8000</td>\n",
              "      <td id=\"T_2e7ce_row0_col2\" class=\"data row0 col2\" >0.8000</td>\n",
              "      <td id=\"T_2e7ce_row0_col3\" class=\"data row0 col3\" >0.8000</td>\n",
              "      <td id=\"T_2e7ce_row0_col4\" class=\"data row0 col4\" >0.8000</td>\n",
              "      <td id=\"T_2e7ce_row0_col5\" class=\"data row0 col5\" >0.8000</td>\n",
              "      <td id=\"T_2e7ce_row0_col6\" class=\"data row0 col6\" >0.8000</td>\n",
              "      <td id=\"T_2e7ce_row0_col7\" class=\"data row0 col7\" >0.8000</td>\n",
              "      <td id=\"T_2e7ce_row0_col8\" class=\"data row0 col8\" >4.0500</td>\n",
              "    </tr>\n",
              "    <tr>\n",
              "      <th id=\"T_2e7ce_level0_row1\" class=\"row_heading level0 row1\" >ridge</th>\n",
              "      <td id=\"T_2e7ce_row1_col0\" class=\"data row1 col0\" >Ridge Classifier</td>\n",
              "      <td id=\"T_2e7ce_row1_col1\" class=\"data row1 col1\" >0.8000</td>\n",
              "      <td id=\"T_2e7ce_row1_col2\" class=\"data row1 col2\" >0.0000</td>\n",
              "      <td id=\"T_2e7ce_row1_col3\" class=\"data row1 col3\" >0.8000</td>\n",
              "      <td id=\"T_2e7ce_row1_col4\" class=\"data row1 col4\" >0.8000</td>\n",
              "      <td id=\"T_2e7ce_row1_col5\" class=\"data row1 col5\" >0.8000</td>\n",
              "      <td id=\"T_2e7ce_row1_col6\" class=\"data row1 col6\" >0.8000</td>\n",
              "      <td id=\"T_2e7ce_row1_col7\" class=\"data row1 col7\" >0.8000</td>\n",
              "      <td id=\"T_2e7ce_row1_col8\" class=\"data row1 col8\" >3.3940</td>\n",
              "    </tr>\n",
              "    <tr>\n",
              "      <th id=\"T_2e7ce_level0_row2\" class=\"row_heading level0 row2\" >qda</th>\n",
              "      <td id=\"T_2e7ce_row2_col0\" class=\"data row2 col0\" >Quadratic Discriminant Analysis</td>\n",
              "      <td id=\"T_2e7ce_row2_col1\" class=\"data row2 col1\" >0.8000</td>\n",
              "      <td id=\"T_2e7ce_row2_col2\" class=\"data row2 col2\" >0.8000</td>\n",
              "      <td id=\"T_2e7ce_row2_col3\" class=\"data row2 col3\" >0.8000</td>\n",
              "      <td id=\"T_2e7ce_row2_col4\" class=\"data row2 col4\" >0.8000</td>\n",
              "      <td id=\"T_2e7ce_row2_col5\" class=\"data row2 col5\" >0.8000</td>\n",
              "      <td id=\"T_2e7ce_row2_col6\" class=\"data row2 col6\" >0.8000</td>\n",
              "      <td id=\"T_2e7ce_row2_col7\" class=\"data row2 col7\" >0.8000</td>\n",
              "      <td id=\"T_2e7ce_row2_col8\" class=\"data row2 col8\" >3.8800</td>\n",
              "    </tr>\n",
              "    <tr>\n",
              "      <th id=\"T_2e7ce_level0_row3\" class=\"row_heading level0 row3\" >ada</th>\n",
              "      <td id=\"T_2e7ce_row3_col0\" class=\"data row3 col0\" >Ada Boost Classifier</td>\n",
              "      <td id=\"T_2e7ce_row3_col1\" class=\"data row3 col1\" >0.8000</td>\n",
              "      <td id=\"T_2e7ce_row3_col2\" class=\"data row3 col2\" >0.8000</td>\n",
              "      <td id=\"T_2e7ce_row3_col3\" class=\"data row3 col3\" >0.8000</td>\n",
              "      <td id=\"T_2e7ce_row3_col4\" class=\"data row3 col4\" >0.8000</td>\n",
              "      <td id=\"T_2e7ce_row3_col5\" class=\"data row3 col5\" >0.8000</td>\n",
              "      <td id=\"T_2e7ce_row3_col6\" class=\"data row3 col6\" >0.8000</td>\n",
              "      <td id=\"T_2e7ce_row3_col7\" class=\"data row3 col7\" >0.8000</td>\n",
              "      <td id=\"T_2e7ce_row3_col8\" class=\"data row3 col8\" >3.5450</td>\n",
              "    </tr>\n",
              "    <tr>\n",
              "      <th id=\"T_2e7ce_level0_row4\" class=\"row_heading level0 row4\" >lda</th>\n",
              "      <td id=\"T_2e7ce_row4_col0\" class=\"data row4 col0\" >Linear Discriminant Analysis</td>\n",
              "      <td id=\"T_2e7ce_row4_col1\" class=\"data row4 col1\" >0.8000</td>\n",
              "      <td id=\"T_2e7ce_row4_col2\" class=\"data row4 col2\" >0.8000</td>\n",
              "      <td id=\"T_2e7ce_row4_col3\" class=\"data row4 col3\" >0.8000</td>\n",
              "      <td id=\"T_2e7ce_row4_col4\" class=\"data row4 col4\" >0.8000</td>\n",
              "      <td id=\"T_2e7ce_row4_col5\" class=\"data row4 col5\" >0.8000</td>\n",
              "      <td id=\"T_2e7ce_row4_col6\" class=\"data row4 col6\" >0.8000</td>\n",
              "      <td id=\"T_2e7ce_row4_col7\" class=\"data row4 col7\" >0.8000</td>\n",
              "      <td id=\"T_2e7ce_row4_col8\" class=\"data row4 col8\" >3.9000</td>\n",
              "    </tr>\n",
              "    <tr>\n",
              "      <th id=\"T_2e7ce_level0_row5\" class=\"row_heading level0 row5\" >et</th>\n",
              "      <td id=\"T_2e7ce_row5_col0\" class=\"data row5 col0\" >Extra Trees Classifier</td>\n",
              "      <td id=\"T_2e7ce_row5_col1\" class=\"data row5 col1\" >0.8000</td>\n",
              "      <td id=\"T_2e7ce_row5_col2\" class=\"data row5 col2\" >0.8000</td>\n",
              "      <td id=\"T_2e7ce_row5_col3\" class=\"data row5 col3\" >0.8000</td>\n",
              "      <td id=\"T_2e7ce_row5_col4\" class=\"data row5 col4\" >0.8000</td>\n",
              "      <td id=\"T_2e7ce_row5_col5\" class=\"data row5 col5\" >0.8000</td>\n",
              "      <td id=\"T_2e7ce_row5_col6\" class=\"data row5 col6\" >0.8000</td>\n",
              "      <td id=\"T_2e7ce_row5_col7\" class=\"data row5 col7\" >0.8000</td>\n",
              "      <td id=\"T_2e7ce_row5_col8\" class=\"data row5 col8\" >4.4370</td>\n",
              "    </tr>\n",
              "    <tr>\n",
              "      <th id=\"T_2e7ce_level0_row6\" class=\"row_heading level0 row6\" >xgboost</th>\n",
              "      <td id=\"T_2e7ce_row6_col0\" class=\"data row6 col0\" >Extreme Gradient Boosting</td>\n",
              "      <td id=\"T_2e7ce_row6_col1\" class=\"data row6 col1\" >0.8000</td>\n",
              "      <td id=\"T_2e7ce_row6_col2\" class=\"data row6 col2\" >0.8000</td>\n",
              "      <td id=\"T_2e7ce_row6_col3\" class=\"data row6 col3\" >0.8000</td>\n",
              "      <td id=\"T_2e7ce_row6_col4\" class=\"data row6 col4\" >0.8000</td>\n",
              "      <td id=\"T_2e7ce_row6_col5\" class=\"data row6 col5\" >0.8000</td>\n",
              "      <td id=\"T_2e7ce_row6_col6\" class=\"data row6 col6\" >0.8000</td>\n",
              "      <td id=\"T_2e7ce_row6_col7\" class=\"data row6 col7\" >0.8000</td>\n",
              "      <td id=\"T_2e7ce_row6_col8\" class=\"data row6 col8\" >4.5920</td>\n",
              "    </tr>\n",
              "    <tr>\n",
              "      <th id=\"T_2e7ce_level0_row7\" class=\"row_heading level0 row7\" >rf</th>\n",
              "      <td id=\"T_2e7ce_row7_col0\" class=\"data row7 col0\" >Random Forest Classifier</td>\n",
              "      <td id=\"T_2e7ce_row7_col1\" class=\"data row7 col1\" >0.7995</td>\n",
              "      <td id=\"T_2e7ce_row7_col2\" class=\"data row7 col2\" >0.8000</td>\n",
              "      <td id=\"T_2e7ce_row7_col3\" class=\"data row7 col3\" >0.7886</td>\n",
              "      <td id=\"T_2e7ce_row7_col4\" class=\"data row7 col4\" >0.8000</td>\n",
              "      <td id=\"T_2e7ce_row7_col5\" class=\"data row7 col5\" >0.7942</td>\n",
              "      <td id=\"T_2e7ce_row7_col6\" class=\"data row7 col6\" >0.7939</td>\n",
              "      <td id=\"T_2e7ce_row7_col7\" class=\"data row7 col7\" >0.7940</td>\n",
              "      <td id=\"T_2e7ce_row7_col8\" class=\"data row7 col8\" >4.3450</td>\n",
              "    </tr>\n",
              "    <tr>\n",
              "      <th id=\"T_2e7ce_level0_row8\" class=\"row_heading level0 row8\" >gbc</th>\n",
              "      <td id=\"T_2e7ce_row8_col0\" class=\"data row8 col0\" >Gradient Boosting Classifier</td>\n",
              "      <td id=\"T_2e7ce_row8_col1\" class=\"data row8 col1\" >0.7993</td>\n",
              "      <td id=\"T_2e7ce_row8_col2\" class=\"data row8 col2\" >0.8000</td>\n",
              "      <td id=\"T_2e7ce_row8_col3\" class=\"data row8 col3\" >0.7841</td>\n",
              "      <td id=\"T_2e7ce_row8_col4\" class=\"data row8 col4\" >0.8000</td>\n",
              "      <td id=\"T_2e7ce_row8_col5\" class=\"data row8 col5\" >0.7919</td>\n",
              "      <td id=\"T_2e7ce_row8_col6\" class=\"data row8 col6\" >0.7915</td>\n",
              "      <td id=\"T_2e7ce_row8_col7\" class=\"data row8 col7\" >0.7916</td>\n",
              "      <td id=\"T_2e7ce_row8_col8\" class=\"data row8 col8\" >4.8950</td>\n",
              "    </tr>\n",
              "    <tr>\n",
              "      <th id=\"T_2e7ce_level0_row9\" class=\"row_heading level0 row9\" >lr</th>\n",
              "      <td id=\"T_2e7ce_row9_col0\" class=\"data row9 col0\" >Logistic Regression</td>\n",
              "      <td id=\"T_2e7ce_row9_col1\" class=\"data row9 col1\" >0.7913</td>\n",
              "      <td id=\"T_2e7ce_row9_col2\" class=\"data row9 col2\" >0.7651</td>\n",
              "      <td id=\"T_2e7ce_row9_col3\" class=\"data row9 col3\" >0.6000</td>\n",
              "      <td id=\"T_2e7ce_row9_col4\" class=\"data row9 col4\" >0.6000</td>\n",
              "      <td id=\"T_2e7ce_row9_col5\" class=\"data row9 col5\" >0.6000</td>\n",
              "      <td id=\"T_2e7ce_row9_col6\" class=\"data row9 col6\" >0.5998</td>\n",
              "      <td id=\"T_2e7ce_row9_col7\" class=\"data row9 col7\" >0.5993</td>\n",
              "      <td id=\"T_2e7ce_row9_col8\" class=\"data row9 col8\" >8.8730</td>\n",
              "    </tr>\n",
              "    <tr>\n",
              "      <th id=\"T_2e7ce_level0_row10\" class=\"row_heading level0 row10\" >knn</th>\n",
              "      <td id=\"T_2e7ce_row10_col0\" class=\"data row10 col0\" >K Neighbors Classifier</td>\n",
              "      <td id=\"T_2e7ce_row10_col1\" class=\"data row10 col1\" >0.7818</td>\n",
              "      <td id=\"T_2e7ce_row10_col2\" class=\"data row10 col2\" >0.7506</td>\n",
              "      <td id=\"T_2e7ce_row10_col3\" class=\"data row10 col3\" >0.5477</td>\n",
              "      <td id=\"T_2e7ce_row10_col4\" class=\"data row10 col4\" >0.6139</td>\n",
              "      <td id=\"T_2e7ce_row10_col5\" class=\"data row10 col5\" >0.5758</td>\n",
              "      <td id=\"T_2e7ce_row10_col6\" class=\"data row10 col6\" >0.5664</td>\n",
              "      <td id=\"T_2e7ce_row10_col7\" class=\"data row10 col7\" >0.5691</td>\n",
              "      <td id=\"T_2e7ce_row10_col8\" class=\"data row10 col8\" >5.5320</td>\n",
              "    </tr>\n",
              "    <tr>\n",
              "      <th id=\"T_2e7ce_level0_row11\" class=\"row_heading level0 row11\" >dummy</th>\n",
              "      <td id=\"T_2e7ce_row11_col0\" class=\"data row11 col0\" >Dummy Classifier</td>\n",
              "      <td id=\"T_2e7ce_row11_col1\" class=\"data row11 col1\" >0.7658</td>\n",
              "      <td id=\"T_2e7ce_row11_col2\" class=\"data row11 col2\" >0.4000</td>\n",
              "      <td id=\"T_2e7ce_row11_col3\" class=\"data row11 col3\" >0.0000</td>\n",
              "      <td id=\"T_2e7ce_row11_col4\" class=\"data row11 col4\" >0.0000</td>\n",
              "      <td id=\"T_2e7ce_row11_col5\" class=\"data row11 col5\" >0.0000</td>\n",
              "      <td id=\"T_2e7ce_row11_col6\" class=\"data row11 col6\" >0.0000</td>\n",
              "      <td id=\"T_2e7ce_row11_col7\" class=\"data row11 col7\" >0.0000</td>\n",
              "      <td id=\"T_2e7ce_row11_col8\" class=\"data row11 col8\" >3.5640</td>\n",
              "    </tr>\n",
              "    <tr>\n",
              "      <th id=\"T_2e7ce_level0_row12\" class=\"row_heading level0 row12\" >svm</th>\n",
              "      <td id=\"T_2e7ce_row12_col0\" class=\"data row12 col0\" >SVM - Linear Kernel</td>\n",
              "      <td id=\"T_2e7ce_row12_col1\" class=\"data row12 col1\" >0.7025</td>\n",
              "      <td id=\"T_2e7ce_row12_col2\" class=\"data row12 col2\" >0.0000</td>\n",
              "      <td id=\"T_2e7ce_row12_col3\" class=\"data row12 col3\" >0.0795</td>\n",
              "      <td id=\"T_2e7ce_row12_col4\" class=\"data row12 col4\" >0.0049</td>\n",
              "      <td id=\"T_2e7ce_row12_col5\" class=\"data row12 col5\" >0.0092</td>\n",
              "      <td id=\"T_2e7ce_row12_col6\" class=\"data row12 col6\" >0.0005</td>\n",
              "      <td id=\"T_2e7ce_row12_col7\" class=\"data row12 col7\" >0.0027</td>\n",
              "      <td id=\"T_2e7ce_row12_col8\" class=\"data row12 col8\" >3.6020</td>\n",
              "    </tr>\n",
              "    <tr>\n",
              "      <th id=\"T_2e7ce_level0_row13\" class=\"row_heading level0 row13\" >nb</th>\n",
              "      <td id=\"T_2e7ce_row13_col0\" class=\"data row13 col0\" >Naive Bayes</td>\n",
              "      <td id=\"T_2e7ce_row13_col1\" class=\"data row13 col1\" >0.4142</td>\n",
              "      <td id=\"T_2e7ce_row13_col2\" class=\"data row13 col2\" >0.7319</td>\n",
              "      <td id=\"T_2e7ce_row13_col3\" class=\"data row13 col3\" >0.7932</td>\n",
              "      <td id=\"T_2e7ce_row13_col4\" class=\"data row13 col4\" >0.0740</td>\n",
              "      <td id=\"T_2e7ce_row13_col5\" class=\"data row13 col5\" >0.1344</td>\n",
              "      <td id=\"T_2e7ce_row13_col6\" class=\"data row13 col6\" >0.0777</td>\n",
              "      <td id=\"T_2e7ce_row13_col7\" class=\"data row13 col7\" >0.1631</td>\n",
              "      <td id=\"T_2e7ce_row13_col8\" class=\"data row13 col8\" >4.1030</td>\n",
              "    </tr>\n",
              "  </tbody>\n",
              "</table>\n"
            ]
          },
          "metadata": {}
        },
        {
          "output_type": "display_data",
          "data": {
            "text/plain": [
              "Processing:   0%|          | 0/65 [00:00<?, ?it/s]"
            ],
            "application/vnd.jupyter.widget-view+json": {
              "version_major": 2,
              "version_minor": 0,
              "model_id": "8ea816d1d06a46bfbbcd14446d1a4e12"
            }
          },
          "metadata": {
            "application/vnd.jupyter.widget-view+json": {
              "colab": {
                "custom_widget_manager": {
                  "url": "https://ssl.gstatic.com/colaboratory-static/widgets/colab-cdn-widget-manager/b3e629b1971e1542/manager.min.js"
                }
              }
            }
          }
        },
        {
          "output_type": "display_data",
          "data": {
            "text/plain": [
              "<IPython.core.display.HTML object>"
            ],
            "text/html": []
          },
          "metadata": {}
        }
      ]
    },
    {
      "cell_type": "markdown",
      "source": [
        "From the looks of the above stage, due to the lack of sufficient data in the target class, ~(600/200600 rows), there are many classifiers which overfit. Given we have many models to choose from, I would pick the KNN/RandomForest/GradientBoosting Classifier as the 'best' considering the limitations. This model has high Recall/Precision/Accuracy, without overfitting. Now we will move on to visualizing the model performance before moving on to the next stage. There are many visualizations and metrics to tinker with, but for the purposes of this assignment and my own interest working with the features - I want to see which features have the best importance to the estimator."
      ],
      "metadata": {
        "id": "-jz0a7OvyIVy"
      }
    },
    {
      "cell_type": "code",
      "source": [
        "plot_model(model_classification_isLatinAmerican_artwork, plot='feature')"
      ],
      "metadata": {
        "colab": {
          "base_uri": "https://localhost:8080/",
          "height": 485
        },
        "id": "yAFXZxZQzetd",
        "outputId": "fa0e3d6f-3c58-4711-9d7d-c18655359bb2"
      },
      "execution_count": 21,
      "outputs": [
        {
          "output_type": "display_data",
          "data": {
            "text/plain": [
              "<IPython.core.display.HTML object>"
            ],
            "text/html": []
          },
          "metadata": {}
        },
        {
          "output_type": "display_data",
          "data": {
            "text/plain": [
              "<Figure size 800x500 with 1 Axes>"
            ],
            "image/png": "[encoded data removed]"
          },
          "metadata": {}
        }
      ]
    },
    {
      "cell_type": "markdown",
      "source": [
        "The above plot shows that the top feature is artistofngaobject/accessioned(the name of the artist), artistofngaobject is simply a boolean if the display name is the actual name of the artist, this seems to be the model detecting people and using them as a key to determining if they are latinamerican - which I see being a good sign. However, the following confusion matrix validates my assumption that it is overfitting. PyCaret seems to choose the overfit models rather than the KNN."
      ],
      "metadata": {
        "id": "xJqtwp1kzh72"
      }
    },
    {
      "cell_type": "code",
      "source": [
        "plot_model(model_classification_isLatinAmerican_artwork, plot='confusion_matrix')"
      ],
      "metadata": {
        "colab": {
          "base_uri": "https://localhost:8080/",
          "height": 551
        },
        "id": "J1J5j4P2yoUq",
        "outputId": "6494a67a-94ea-4159-82fb-b9d9b1db4777"
      },
      "execution_count": 22,
      "outputs": [
        {
          "output_type": "display_data",
          "data": {
            "text/plain": [
              "<IPython.core.display.HTML object>"
            ],
            "text/html": []
          },
          "metadata": {}
        },
        {
          "output_type": "display_data",
          "data": {
            "text/plain": [
              "<Figure size 800x550 with 1 Axes>"
            ],
            "image/png": "[encoded data removed]"
          },
          "metadata": {}
        }
      ]
    },
    {
      "cell_type": "markdown",
      "source": [
        "###Multiclass Classification"
      ],
      "metadata": {
        "id": "roCOwO4eXNk_"
      }
    },
    {
      "cell_type": "markdown",
      "source": [
        "#### Setup Stage"
      ],
      "metadata": {
        "id": "SODSsJ9k0IPQ"
      }
    },
    {
      "cell_type": "code",
      "source": [
        "#dropping the artistofnga feature in the dataset to check if this makes a difference\n",
        "nga_artwork_metadata = nga_artwork_metadata.drop('artistofngaobject', axis=1)"
      ],
      "metadata": {
        "id": "21kw0nNw0pRg"
      },
      "execution_count": 23,
      "outputs": []
    },
    {
      "cell_type": "code",
      "source": [
        "nga_artwork_metadata.columns"
      ],
      "metadata": {
        "colab": {
          "base_uri": "https://localhost:8080/"
        },
        "id": "74watdCD1F4U",
        "outputId": "85fe182a-6c8f-4e29-c814-33d4b5bd715d"
      },
      "execution_count": 24,
      "outputs": [
        {
          "output_type": "execute_result",
          "data": {
            "text/plain": [
              "Index(['iiifurl', 'iiifthumburl', 'accessioned', 'title',\n",
              "       'displayDate_created', 'roletype', 'role', 'forwarddisplayname',\n",
              "       'birthyear', 'deathyear', 'ulanid', 'nationality', 'constituenttype',\n",
              "       'beginyear_artistAssigned', 'endyear_artistAssigned',\n",
              "       'country_artistAssigned', 'zipcode_artistAssigned', 'medium',\n",
              "       'dimensions', 'inscription', 'markings', 'attribution',\n",
              "       'visualBrowserClassification', 'parentID', 'isVirtual', 'portfolio',\n",
              "       'series', 'volume', 'watermarks', 'uuid', 'viewtype', 'sequence',\n",
              "       'width', 'height', 'maxpixels', 'assistivetext', 'depictstmsobjectid',\n",
              "       'objectid', 'constituentid', 'is_latinamerican'],\n",
              "      dtype='object')"
            ]
          },
          "metadata": {},
          "execution_count": 24
        }
      ]
    },
    {
      "cell_type": "code",
      "source": [
        "nga_artwork_metadata = nga_artwork_metadata.where(nga_artwork_metadata.visualBrowserClassification.notna()).dropna(how='all')"
      ],
      "metadata": {
        "id": "qOkIzYNt1iCJ"
      },
      "execution_count": 100,
      "outputs": []
    },
    {
      "cell_type": "code",
      "source": [
        "nga_artwork_metadata.shape #using medium as the target variable reduced the overall size of the dataset"
      ],
      "metadata": {
        "colab": {
          "base_uri": "https://localhost:8080/"
        },
        "id": "CWLM8nQ21qDn",
        "outputId": "5d4ae4df-df0b-4d8d-92d7-08beb4aa23af"
      },
      "execution_count": 101,
      "outputs": [
        {
          "output_type": "execute_result",
          "data": {
            "text/plain": [
              "(14635, 41)"
            ]
          },
          "metadata": {},
          "execution_count": 101
        }
      ]
    },
    {
      "cell_type": "code",
      "source": [
        "nga_artwork_metadata.is_latinamerican.value_counts() #luckily, it only shrank the non_latinamerican_set!"
      ],
      "metadata": {
        "colab": {
          "base_uri": "https://localhost:8080/"
        },
        "id": "y_d-EpvF1x_O",
        "outputId": "6ac8e393-46e5-40bb-8b6c-7c658d2e6d7a"
      },
      "execution_count": 102,
      "outputs": [
        {
          "output_type": "execute_result",
          "data": {
            "text/plain": [
              "0.0    14007\n",
              "1.0      628\n",
              "Name: is_latinamerican, dtype: int64"
            ]
          },
          "metadata": {},
          "execution_count": 102
        }
      ]
    },
    {
      "cell_type": "code",
      "source": [
        "mask = nga_artwork_metadata.isin([' 1902. Framed gravure / Alfred Stieglitz / 509 Madison Ave.'])\n",
        "cols_with_element = mask.any()\n",
        "cols_with_element = cols_with_element[cols_with_element].index.tolist()\n"
      ],
      "metadata": {
        "id": "6LGJQ9n-E0kX"
      },
      "execution_count": 86,
      "outputs": []
    },
    {
      "cell_type": "code",
      "source": [
        "cols_with_element"
      ],
      "metadata": {
        "colab": {
          "base_uri": "https://localhost:8080/"
        },
        "id": "p0sR09PYFDn0",
        "outputId": "ef9cf3f0-c0e5-4a00-9aba-73b267ea7e7f"
      },
      "execution_count": 87,
      "outputs": [
        {
          "output_type": "execute_result",
          "data": {
            "text/plain": [
              "['isVirtual']"
            ]
          },
          "metadata": {},
          "execution_count": 87
        }
      ]
    },
    {
      "cell_type": "code",
      "source": [
        "categorical_artFeatures = ['isVirtual','parentID','endyear_artistAssigned','beginyear_artistAssigned','ulanid','deathyear','birthyear','accessioned','iiifurl', 'iiifthumburl','title', 'displayDate_created', 'roletype', 'role', 'forwarddisplayname', 'nationality', 'constituenttype', 'country_artistAssigned', 'dimensions', 'inscription', 'markings', 'attribution','medium', 'portfolio', 'series', 'volume', 'watermarks', 'uuid', 'viewtype', 'assistivetext']\n",
        "numerical_artFeatures = ['zipcode_artistAssigned', 'sequence', 'width', 'height', 'maxpixels', 'depictstmsobjectid', 'objectid', 'constituentid', 'is_latinamerican']"
      ],
      "metadata": {
        "id": "S8cqs5CnB515"
      },
      "execution_count": 103,
      "outputs": []
    },
    {
      "cell_type": "code",
      "source": [
        "dtype_dict = {col: 'float64' for col in numerical_artFeatures}\n",
        "dtype_dict.update({col: 'category' for col in categorical_artFeatures})"
      ],
      "metadata": {
        "id": "kKv4eNI2HDA_"
      },
      "execution_count": 104,
      "outputs": []
    },
    {
      "cell_type": "code",
      "source": [
        "nga_artwork_metadata = nga_artwork_metadata.astype(dtype_dict)"
      ],
      "metadata": {
        "id": "t2NzQKwdGvp9"
      },
      "execution_count": 105,
      "outputs": []
    },
    {
      "cell_type": "code",
      "source": [
        "#given our dataset has shrank, we might see less overfitting\n",
        "multiclass_medium_artwork_setup = setup(nga_artwork_metadata, target = 'visualBrowserClassification', session_id = 777, numeric_features=numeric_artfeatures, categorical_features=categorical_artFeatures)"
      ],
      "metadata": {
        "colab": {
          "base_uri": "https://localhost:8080/",
          "height": 990
        },
        "id": "kVUL0WFS1PJ3",
        "outputId": "74bbba73-4f8f-400d-df42-1812accf9148"
      },
      "execution_count": 106,
      "outputs": [
        {
          "output_type": "display_data",
          "data": {
            "text/plain": [
              "<pandas.io.formats.style.Styler at 0x7901b5146e30>"
            ],
            "text/html": [
              "<style type=\"text/css\">\n",
              "#T_46ef7_row12_col1 {\n",
              "  background-color: lightgreen;\n",
              "}\n",
              "</style>\n",
              "<table id=\"T_46ef7\" class=\"dataframe\">\n",
              "  <thead>\n",
              "    <tr>\n",
              "      <th class=\"blank level0\" >&nbsp;</th>\n",
              "      <th id=\"T_46ef7_level0_col0\" class=\"col_heading level0 col0\" >Description</th>\n",
              "      <th id=\"T_46ef7_level0_col1\" class=\"col_heading level0 col1\" >Value</th>\n",
              "    </tr>\n",
              "  </thead>\n",
              "  <tbody>\n",
              "    <tr>\n",
              "      <th id=\"T_46ef7_level0_row0\" class=\"row_heading level0 row0\" >0</th>\n",
              "      <td id=\"T_46ef7_row0_col0\" class=\"data row0 col0\" >Session id</td>\n",
              "      <td id=\"T_46ef7_row0_col1\" class=\"data row0 col1\" >777</td>\n",
              "    </tr>\n",
              "    <tr>\n",
              "      <th id=\"T_46ef7_level0_row1\" class=\"row_heading level0 row1\" >1</th>\n",
              "      <td id=\"T_46ef7_row1_col0\" class=\"data row1 col0\" >Target</td>\n",
              "      <td id=\"T_46ef7_row1_col1\" class=\"data row1 col1\" >visualBrowserClassification</td>\n",
              "    </tr>\n",
              "    <tr>\n",
              "      <th id=\"T_46ef7_level0_row2\" class=\"row_heading level0 row2\" >2</th>\n",
              "      <td id=\"T_46ef7_row2_col0\" class=\"data row2 col0\" >Target type</td>\n",
              "      <td id=\"T_46ef7_row2_col1\" class=\"data row2 col1\" >Multiclass</td>\n",
              "    </tr>\n",
              "    <tr>\n",
              "      <th id=\"T_46ef7_level0_row3\" class=\"row_heading level0 row3\" >3</th>\n",
              "      <td id=\"T_46ef7_row3_col0\" class=\"data row3 col0\" >Target mapping</td>\n",
              "      <td id=\"T_46ef7_row3_col1\" class=\"data row3 col1\" > lower right corner: 0,  typed on Museum of Modern Art sticker: 40.5022 / Stieglitz; upper right: 1,  upper right in graphite: X-BAB.005; lower right: ICP 1981.1145 GT: 2, 0: 3, 173333: 4, decorative art: 5, drawing: 6, new media: 7, painting: 8, photograph: 9, portfolio: 10, print: 11, sculpture: 12, technical material: 13, volume: 14</td>\n",
              "    </tr>\n",
              "    <tr>\n",
              "      <th id=\"T_46ef7_level0_row4\" class=\"row_heading level0 row4\" >4</th>\n",
              "      <td id=\"T_46ef7_row4_col0\" class=\"data row4 col0\" >Original data shape</td>\n",
              "      <td id=\"T_46ef7_row4_col1\" class=\"data row4 col1\" >(14635, 41)</td>\n",
              "    </tr>\n",
              "    <tr>\n",
              "      <th id=\"T_46ef7_level0_row5\" class=\"row_heading level0 row5\" >5</th>\n",
              "      <td id=\"T_46ef7_row5_col0\" class=\"data row5 col0\" >Transformed data shape</td>\n",
              "      <td id=\"T_46ef7_row5_col1\" class=\"data row5 col1\" >(14635, 58)</td>\n",
              "    </tr>\n",
              "    <tr>\n",
              "      <th id=\"T_46ef7_level0_row6\" class=\"row_heading level0 row6\" >6</th>\n",
              "      <td id=\"T_46ef7_row6_col0\" class=\"data row6 col0\" >Transformed train set shape</td>\n",
              "      <td id=\"T_46ef7_row6_col1\" class=\"data row6 col1\" >(10244, 58)</td>\n",
              "    </tr>\n",
              "    <tr>\n",
              "      <th id=\"T_46ef7_level0_row7\" class=\"row_heading level0 row7\" >7</th>\n",
              "      <td id=\"T_46ef7_row7_col0\" class=\"data row7 col0\" >Transformed test set shape</td>\n",
              "      <td id=\"T_46ef7_row7_col1\" class=\"data row7 col1\" >(4391, 58)</td>\n",
              "    </tr>\n",
              "    <tr>\n",
              "      <th id=\"T_46ef7_level0_row8\" class=\"row_heading level0 row8\" >8</th>\n",
              "      <td id=\"T_46ef7_row8_col0\" class=\"data row8 col0\" >Ordinal features</td>\n",
              "      <td id=\"T_46ef7_row8_col1\" class=\"data row8 col1\" >1</td>\n",
              "    </tr>\n",
              "    <tr>\n",
              "      <th id=\"T_46ef7_level0_row9\" class=\"row_heading level0 row9\" >9</th>\n",
              "      <td id=\"T_46ef7_row9_col0\" class=\"data row9 col0\" >Numeric features</td>\n",
              "      <td id=\"T_46ef7_row9_col1\" class=\"data row9 col1\" >9</td>\n",
              "    </tr>\n",
              "    <tr>\n",
              "      <th id=\"T_46ef7_level0_row10\" class=\"row_heading level0 row10\" >10</th>\n",
              "      <td id=\"T_46ef7_row10_col0\" class=\"data row10 col0\" >Categorical features</td>\n",
              "      <td id=\"T_46ef7_row10_col1\" class=\"data row10 col1\" >30</td>\n",
              "    </tr>\n",
              "    <tr>\n",
              "      <th id=\"T_46ef7_level0_row11\" class=\"row_heading level0 row11\" >11</th>\n",
              "      <td id=\"T_46ef7_row11_col0\" class=\"data row11 col0\" >Rows with missing values</td>\n",
              "      <td id=\"T_46ef7_row11_col1\" class=\"data row11 col1\" >100.0%</td>\n",
              "    </tr>\n",
              "    <tr>\n",
              "      <th id=\"T_46ef7_level0_row12\" class=\"row_heading level0 row12\" >12</th>\n",
              "      <td id=\"T_46ef7_row12_col0\" class=\"data row12 col0\" >Preprocess</td>\n",
              "      <td id=\"T_46ef7_row12_col1\" class=\"data row12 col1\" >True</td>\n",
              "    </tr>\n",
              "    <tr>\n",
              "      <th id=\"T_46ef7_level0_row13\" class=\"row_heading level0 row13\" >13</th>\n",
              "      <td id=\"T_46ef7_row13_col0\" class=\"data row13 col0\" >Imputation type</td>\n",
              "      <td id=\"T_46ef7_row13_col1\" class=\"data row13 col1\" >simple</td>\n",
              "    </tr>\n",
              "    <tr>\n",
              "      <th id=\"T_46ef7_level0_row14\" class=\"row_heading level0 row14\" >14</th>\n",
              "      <td id=\"T_46ef7_row14_col0\" class=\"data row14 col0\" >Numeric imputation</td>\n",
              "      <td id=\"T_46ef7_row14_col1\" class=\"data row14 col1\" >mean</td>\n",
              "    </tr>\n",
              "    <tr>\n",
              "      <th id=\"T_46ef7_level0_row15\" class=\"row_heading level0 row15\" >15</th>\n",
              "      <td id=\"T_46ef7_row15_col0\" class=\"data row15 col0\" >Categorical imputation</td>\n",
              "      <td id=\"T_46ef7_row15_col1\" class=\"data row15 col1\" >mode</td>\n",
              "    </tr>\n",
              "    <tr>\n",
              "      <th id=\"T_46ef7_level0_row16\" class=\"row_heading level0 row16\" >16</th>\n",
              "      <td id=\"T_46ef7_row16_col0\" class=\"data row16 col0\" >Maximum one-hot encoding</td>\n",
              "      <td id=\"T_46ef7_row16_col1\" class=\"data row16 col1\" >25</td>\n",
              "    </tr>\n",
              "    <tr>\n",
              "      <th id=\"T_46ef7_level0_row17\" class=\"row_heading level0 row17\" >17</th>\n",
              "      <td id=\"T_46ef7_row17_col0\" class=\"data row17 col0\" >Encoding method</td>\n",
              "      <td id=\"T_46ef7_row17_col1\" class=\"data row17 col1\" >None</td>\n",
              "    </tr>\n",
              "    <tr>\n",
              "      <th id=\"T_46ef7_level0_row18\" class=\"row_heading level0 row18\" >18</th>\n",
              "      <td id=\"T_46ef7_row18_col0\" class=\"data row18 col0\" >Fold Generator</td>\n",
              "      <td id=\"T_46ef7_row18_col1\" class=\"data row18 col1\" >StratifiedKFold</td>\n",
              "    </tr>\n",
              "    <tr>\n",
              "      <th id=\"T_46ef7_level0_row19\" class=\"row_heading level0 row19\" >19</th>\n",
              "      <td id=\"T_46ef7_row19_col0\" class=\"data row19 col0\" >Fold Number</td>\n",
              "      <td id=\"T_46ef7_row19_col1\" class=\"data row19 col1\" >10</td>\n",
              "    </tr>\n",
              "    <tr>\n",
              "      <th id=\"T_46ef7_level0_row20\" class=\"row_heading level0 row20\" >20</th>\n",
              "      <td id=\"T_46ef7_row20_col0\" class=\"data row20 col0\" >CPU Jobs</td>\n",
              "      <td id=\"T_46ef7_row20_col1\" class=\"data row20 col1\" >-1</td>\n",
              "    </tr>\n",
              "    <tr>\n",
              "      <th id=\"T_46ef7_level0_row21\" class=\"row_heading level0 row21\" >21</th>\n",
              "      <td id=\"T_46ef7_row21_col0\" class=\"data row21 col0\" >Use GPU</td>\n",
              "      <td id=\"T_46ef7_row21_col1\" class=\"data row21 col1\" >False</td>\n",
              "    </tr>\n",
              "    <tr>\n",
              "      <th id=\"T_46ef7_level0_row22\" class=\"row_heading level0 row22\" >22</th>\n",
              "      <td id=\"T_46ef7_row22_col0\" class=\"data row22 col0\" >Log Experiment</td>\n",
              "      <td id=\"T_46ef7_row22_col1\" class=\"data row22 col1\" >False</td>\n",
              "    </tr>\n",
              "    <tr>\n",
              "      <th id=\"T_46ef7_level0_row23\" class=\"row_heading level0 row23\" >23</th>\n",
              "      <td id=\"T_46ef7_row23_col0\" class=\"data row23 col0\" >Experiment Name</td>\n",
              "      <td id=\"T_46ef7_row23_col1\" class=\"data row23 col1\" >clf-default-name</td>\n",
              "    </tr>\n",
              "    <tr>\n",
              "      <th id=\"T_46ef7_level0_row24\" class=\"row_heading level0 row24\" >24</th>\n",
              "      <td id=\"T_46ef7_row24_col0\" class=\"data row24 col0\" >USI</td>\n",
              "      <td id=\"T_46ef7_row24_col1\" class=\"data row24 col1\" >66f8</td>\n",
              "    </tr>\n",
              "  </tbody>\n",
              "</table>\n"
            ]
          },
          "metadata": {}
        }
      ]
    },
    {
      "cell_type": "code",
      "source": [
        "multiclass_medium_artwork = ClassificationExperiment()"
      ],
      "metadata": {
        "id": "98fUb01zXNQs"
      },
      "execution_count": 107,
      "outputs": []
    },
    {
      "cell_type": "code",
      "source": [
        "multiclass_medium_artwork.setup(nga_artwork_metadata, target = 'visualBrowserClassification', session_id = 777, numeric_features=numeric_artfeatures, categorical_features=categorical_artFeatures)"
      ],
      "metadata": {
        "colab": {
          "base_uri": "https://localhost:8080/",
          "height": 1000
        },
        "id": "X4vi5z4y5KcR",
        "outputId": "9f62ba63-fc8b-48df-fdb1-225d8f978de9"
      },
      "execution_count": 110,
      "outputs": [
        {
          "output_type": "display_data",
          "data": {
            "text/plain": [
              "<pandas.io.formats.style.Styler at 0x7901b5203940>"
            ],
            "text/html": [
              "<style type=\"text/css\">\n",
              "#T_a48f5_row12_col1 {\n",
              "  background-color: lightgreen;\n",
              "}\n",
              "</style>\n",
              "<table id=\"T_a48f5\" class=\"dataframe\">\n",
              "  <thead>\n",
              "    <tr>\n",
              "      <th class=\"blank level0\" >&nbsp;</th>\n",
              "      <th id=\"T_a48f5_level0_col0\" class=\"col_heading level0 col0\" >Description</th>\n",
              "      <th id=\"T_a48f5_level0_col1\" class=\"col_heading level0 col1\" >Value</th>\n",
              "    </tr>\n",
              "  </thead>\n",
              "  <tbody>\n",
              "    <tr>\n",
              "      <th id=\"T_a48f5_level0_row0\" class=\"row_heading level0 row0\" >0</th>\n",
              "      <td id=\"T_a48f5_row0_col0\" class=\"data row0 col0\" >Session id</td>\n",
              "      <td id=\"T_a48f5_row0_col1\" class=\"data row0 col1\" >777</td>\n",
              "    </tr>\n",
              "    <tr>\n",
              "      <th id=\"T_a48f5_level0_row1\" class=\"row_heading level0 row1\" >1</th>\n",
              "      <td id=\"T_a48f5_row1_col0\" class=\"data row1 col0\" >Target</td>\n",
              "      <td id=\"T_a48f5_row1_col1\" class=\"data row1 col1\" >visualBrowserClassification</td>\n",
              "    </tr>\n",
              "    <tr>\n",
              "      <th id=\"T_a48f5_level0_row2\" class=\"row_heading level0 row2\" >2</th>\n",
              "      <td id=\"T_a48f5_row2_col0\" class=\"data row2 col0\" >Target type</td>\n",
              "      <td id=\"T_a48f5_row2_col1\" class=\"data row2 col1\" >Multiclass</td>\n",
              "    </tr>\n",
              "    <tr>\n",
              "      <th id=\"T_a48f5_level0_row3\" class=\"row_heading level0 row3\" >3</th>\n",
              "      <td id=\"T_a48f5_row3_col0\" class=\"data row3 col0\" >Target mapping</td>\n",
              "      <td id=\"T_a48f5_row3_col1\" class=\"data row3 col1\" > lower right corner: 0,  typed on Museum of Modern Art sticker: 40.5022 / Stieglitz; upper right: 1,  upper right in graphite: X-BAB.005; lower right: ICP 1981.1145 GT: 2, 0: 3, 173333: 4, decorative art: 5, drawing: 6, new media: 7, painting: 8, photograph: 9, portfolio: 10, print: 11, sculpture: 12, technical material: 13, volume: 14</td>\n",
              "    </tr>\n",
              "    <tr>\n",
              "      <th id=\"T_a48f5_level0_row4\" class=\"row_heading level0 row4\" >4</th>\n",
              "      <td id=\"T_a48f5_row4_col0\" class=\"data row4 col0\" >Original data shape</td>\n",
              "      <td id=\"T_a48f5_row4_col1\" class=\"data row4 col1\" >(14635, 41)</td>\n",
              "    </tr>\n",
              "    <tr>\n",
              "      <th id=\"T_a48f5_level0_row5\" class=\"row_heading level0 row5\" >5</th>\n",
              "      <td id=\"T_a48f5_row5_col0\" class=\"data row5 col0\" >Transformed data shape</td>\n",
              "      <td id=\"T_a48f5_row5_col1\" class=\"data row5 col1\" >(14635, 58)</td>\n",
              "    </tr>\n",
              "    <tr>\n",
              "      <th id=\"T_a48f5_level0_row6\" class=\"row_heading level0 row6\" >6</th>\n",
              "      <td id=\"T_a48f5_row6_col0\" class=\"data row6 col0\" >Transformed train set shape</td>\n",
              "      <td id=\"T_a48f5_row6_col1\" class=\"data row6 col1\" >(10244, 58)</td>\n",
              "    </tr>\n",
              "    <tr>\n",
              "      <th id=\"T_a48f5_level0_row7\" class=\"row_heading level0 row7\" >7</th>\n",
              "      <td id=\"T_a48f5_row7_col0\" class=\"data row7 col0\" >Transformed test set shape</td>\n",
              "      <td id=\"T_a48f5_row7_col1\" class=\"data row7 col1\" >(4391, 58)</td>\n",
              "    </tr>\n",
              "    <tr>\n",
              "      <th id=\"T_a48f5_level0_row8\" class=\"row_heading level0 row8\" >8</th>\n",
              "      <td id=\"T_a48f5_row8_col0\" class=\"data row8 col0\" >Ordinal features</td>\n",
              "      <td id=\"T_a48f5_row8_col1\" class=\"data row8 col1\" >1</td>\n",
              "    </tr>\n",
              "    <tr>\n",
              "      <th id=\"T_a48f5_level0_row9\" class=\"row_heading level0 row9\" >9</th>\n",
              "      <td id=\"T_a48f5_row9_col0\" class=\"data row9 col0\" >Numeric features</td>\n",
              "      <td id=\"T_a48f5_row9_col1\" class=\"data row9 col1\" >9</td>\n",
              "    </tr>\n",
              "    <tr>\n",
              "      <th id=\"T_a48f5_level0_row10\" class=\"row_heading level0 row10\" >10</th>\n",
              "      <td id=\"T_a48f5_row10_col0\" class=\"data row10 col0\" >Categorical features</td>\n",
              "      <td id=\"T_a48f5_row10_col1\" class=\"data row10 col1\" >30</td>\n",
              "    </tr>\n",
              "    <tr>\n",
              "      <th id=\"T_a48f5_level0_row11\" class=\"row_heading level0 row11\" >11</th>\n",
              "      <td id=\"T_a48f5_row11_col0\" class=\"data row11 col0\" >Rows with missing values</td>\n",
              "      <td id=\"T_a48f5_row11_col1\" class=\"data row11 col1\" >100.0%</td>\n",
              "    </tr>\n",
              "    <tr>\n",
              "      <th id=\"T_a48f5_level0_row12\" class=\"row_heading level0 row12\" >12</th>\n",
              "      <td id=\"T_a48f5_row12_col0\" class=\"data row12 col0\" >Preprocess</td>\n",
              "      <td id=\"T_a48f5_row12_col1\" class=\"data row12 col1\" >True</td>\n",
              "    </tr>\n",
              "    <tr>\n",
              "      <th id=\"T_a48f5_level0_row13\" class=\"row_heading level0 row13\" >13</th>\n",
              "      <td id=\"T_a48f5_row13_col0\" class=\"data row13 col0\" >Imputation type</td>\n",
              "      <td id=\"T_a48f5_row13_col1\" class=\"data row13 col1\" >simple</td>\n",
              "    </tr>\n",
              "    <tr>\n",
              "      <th id=\"T_a48f5_level0_row14\" class=\"row_heading level0 row14\" >14</th>\n",
              "      <td id=\"T_a48f5_row14_col0\" class=\"data row14 col0\" >Numeric imputation</td>\n",
              "      <td id=\"T_a48f5_row14_col1\" class=\"data row14 col1\" >mean</td>\n",
              "    </tr>\n",
              "    <tr>\n",
              "      <th id=\"T_a48f5_level0_row15\" class=\"row_heading level0 row15\" >15</th>\n",
              "      <td id=\"T_a48f5_row15_col0\" class=\"data row15 col0\" >Categorical imputation</td>\n",
              "      <td id=\"T_a48f5_row15_col1\" class=\"data row15 col1\" >mode</td>\n",
              "    </tr>\n",
              "    <tr>\n",
              "      <th id=\"T_a48f5_level0_row16\" class=\"row_heading level0 row16\" >16</th>\n",
              "      <td id=\"T_a48f5_row16_col0\" class=\"data row16 col0\" >Maximum one-hot encoding</td>\n",
              "      <td id=\"T_a48f5_row16_col1\" class=\"data row16 col1\" >25</td>\n",
              "    </tr>\n",
              "    <tr>\n",
              "      <th id=\"T_a48f5_level0_row17\" class=\"row_heading level0 row17\" >17</th>\n",
              "      <td id=\"T_a48f5_row17_col0\" class=\"data row17 col0\" >Encoding method</td>\n",
              "      <td id=\"T_a48f5_row17_col1\" class=\"data row17 col1\" >None</td>\n",
              "    </tr>\n",
              "    <tr>\n",
              "      <th id=\"T_a48f5_level0_row18\" class=\"row_heading level0 row18\" >18</th>\n",
              "      <td id=\"T_a48f5_row18_col0\" class=\"data row18 col0\" >Fold Generator</td>\n",
              "      <td id=\"T_a48f5_row18_col1\" class=\"data row18 col1\" >StratifiedKFold</td>\n",
              "    </tr>\n",
              "    <tr>\n",
              "      <th id=\"T_a48f5_level0_row19\" class=\"row_heading level0 row19\" >19</th>\n",
              "      <td id=\"T_a48f5_row19_col0\" class=\"data row19 col0\" >Fold Number</td>\n",
              "      <td id=\"T_a48f5_row19_col1\" class=\"data row19 col1\" >10</td>\n",
              "    </tr>\n",
              "    <tr>\n",
              "      <th id=\"T_a48f5_level0_row20\" class=\"row_heading level0 row20\" >20</th>\n",
              "      <td id=\"T_a48f5_row20_col0\" class=\"data row20 col0\" >CPU Jobs</td>\n",
              "      <td id=\"T_a48f5_row20_col1\" class=\"data row20 col1\" >-1</td>\n",
              "    </tr>\n",
              "    <tr>\n",
              "      <th id=\"T_a48f5_level0_row21\" class=\"row_heading level0 row21\" >21</th>\n",
              "      <td id=\"T_a48f5_row21_col0\" class=\"data row21 col0\" >Use GPU</td>\n",
              "      <td id=\"T_a48f5_row21_col1\" class=\"data row21 col1\" >False</td>\n",
              "    </tr>\n",
              "    <tr>\n",
              "      <th id=\"T_a48f5_level0_row22\" class=\"row_heading level0 row22\" >22</th>\n",
              "      <td id=\"T_a48f5_row22_col0\" class=\"data row22 col0\" >Log Experiment</td>\n",
              "      <td id=\"T_a48f5_row22_col1\" class=\"data row22 col1\" >False</td>\n",
              "    </tr>\n",
              "    <tr>\n",
              "      <th id=\"T_a48f5_level0_row23\" class=\"row_heading level0 row23\" >23</th>\n",
              "      <td id=\"T_a48f5_row23_col0\" class=\"data row23 col0\" >Experiment Name</td>\n",
              "      <td id=\"T_a48f5_row23_col1\" class=\"data row23 col1\" >clf-default-name</td>\n",
              "    </tr>\n",
              "    <tr>\n",
              "      <th id=\"T_a48f5_level0_row24\" class=\"row_heading level0 row24\" >24</th>\n",
              "      <td id=\"T_a48f5_row24_col0\" class=\"data row24 col0\" >USI</td>\n",
              "      <td id=\"T_a48f5_row24_col1\" class=\"data row24 col1\" >89d1</td>\n",
              "    </tr>\n",
              "  </tbody>\n",
              "</table>\n"
            ]
          },
          "metadata": {}
        },
        {
          "output_type": "execute_result",
          "data": {
            "text/plain": [
              "<pycaret.classification.oop.ClassificationExperiment at 0x7901b52f7850>"
            ]
          },
          "metadata": {},
          "execution_count": 110
        }
      ]
    },
    {
      "cell_type": "markdown",
      "source": [
        "#### Model Selection Stage"
      ],
      "metadata": {
        "id": "yhKF56ZE0NgR"
      }
    },
    {
      "cell_type": "code",
      "source": [
        "model_multiclass_medium_artwork = compare_models()"
      ],
      "metadata": {
        "colab": {
          "base_uri": "https://localhost:8080/",
          "height": 81,
          "referenced_widgets": [
            "29417db5fb694e2aab4a575b6262c37c",
            "6d40afbbd24143868913089d8d59a034",
            "2b3e49a03b0b407baf99fd287404644f",
            "253f8a5fabd54944bc74827bca43b409",
            "c4ec1a1c415e4fd2947aed4b45b103ca",
            "6ac3c927483a4038ad7d572a175c2e11",
            "36504e1478784242ae2a022f69b43925",
            "7da1171a8930452eb31cbd500895ed82",
            "9d4a677c58d9450db8f3d786378d8329",
            "4f8ddf59b9cd4794b112f44ee2a5e5bc",
            "a56dad5603a8473f9c00c0703b628a59"
          ]
        },
        "id": "afuZx0Js26pF",
        "outputId": "5bbb4cdc-efaa-4d8c-e045-f05dbe14626e"
      },
      "execution_count": 111,
      "outputs": [
        {
          "output_type": "display_data",
          "data": {
            "text/plain": [
              "<IPython.core.display.HTML object>"
            ],
            "text/html": []
          },
          "metadata": {}
        },
        {
          "output_type": "display_data",
          "data": {
            "text/plain": [
              "<pandas.io.formats.style.Styler at 0x7901aa3ffd00>"
            ],
            "text/html": [
              "<style type=\"text/css\">\n",
              "#T_853e3 th {\n",
              "  text-align: left;\n",
              "}\n",
              "#T_853e3_row0_col0 {\n",
              "  text-align: left;\n",
              "}\n",
              "#T_853e3_row0_col1, #T_853e3_row0_col2, #T_853e3_row0_col3, #T_853e3_row0_col4, #T_853e3_row0_col5, #T_853e3_row0_col6, #T_853e3_row0_col7 {\n",
              "  text-align: left;\n",
              "  background-color: yellow;\n",
              "}\n",
              "#T_853e3_row0_col8 {\n",
              "  text-align: left;\n",
              "  background-color: yellow;\n",
              "  background-color: lightgrey;\n",
              "}\n",
              "</style>\n",
              "<table id=\"T_853e3\" class=\"dataframe\">\n",
              "  <thead>\n",
              "    <tr>\n",
              "      <th class=\"blank level0\" >&nbsp;</th>\n",
              "      <th id=\"T_853e3_level0_col0\" class=\"col_heading level0 col0\" >Model</th>\n",
              "      <th id=\"T_853e3_level0_col1\" class=\"col_heading level0 col1\" >Accuracy</th>\n",
              "      <th id=\"T_853e3_level0_col2\" class=\"col_heading level0 col2\" >AUC</th>\n",
              "      <th id=\"T_853e3_level0_col3\" class=\"col_heading level0 col3\" >Recall</th>\n",
              "      <th id=\"T_853e3_level0_col4\" class=\"col_heading level0 col4\" >Prec.</th>\n",
              "      <th id=\"T_853e3_level0_col5\" class=\"col_heading level0 col5\" >F1</th>\n",
              "      <th id=\"T_853e3_level0_col6\" class=\"col_heading level0 col6\" >Kappa</th>\n",
              "      <th id=\"T_853e3_level0_col7\" class=\"col_heading level0 col7\" >MCC</th>\n",
              "      <th id=\"T_853e3_level0_col8\" class=\"col_heading level0 col8\" >TT (Sec)</th>\n",
              "    </tr>\n",
              "  </thead>\n",
              "  <tbody>\n",
              "    <tr>\n",
              "      <th id=\"T_853e3_level0_row0\" class=\"row_heading level0 row0\" >dummy</th>\n",
              "      <td id=\"T_853e3_row0_col0\" class=\"data row0 col0\" >Dummy Classifier</td>\n",
              "      <td id=\"T_853e3_row0_col1\" class=\"data row0 col1\" >0.4201</td>\n",
              "      <td id=\"T_853e3_row0_col2\" class=\"data row0 col2\" >0.0000</td>\n",
              "      <td id=\"T_853e3_row0_col3\" class=\"data row0 col3\" >0.4201</td>\n",
              "      <td id=\"T_853e3_row0_col4\" class=\"data row0 col4\" >0.1961</td>\n",
              "      <td id=\"T_853e3_row0_col5\" class=\"data row0 col5\" >0.2674</td>\n",
              "      <td id=\"T_853e3_row0_col6\" class=\"data row0 col6\" >0.0000</td>\n",
              "      <td id=\"T_853e3_row0_col7\" class=\"data row0 col7\" >0.0000</td>\n",
              "      <td id=\"T_853e3_row0_col8\" class=\"data row0 col8\" >6.0570</td>\n",
              "    </tr>\n",
              "  </tbody>\n",
              "</table>\n"
            ]
          },
          "metadata": {}
        },
        {
          "output_type": "display_data",
          "data": {
            "text/plain": [
              "Processing:   0%|          | 0/65 [00:00<?, ?it/s]"
            ],
            "application/vnd.jupyter.widget-view+json": {
              "version_major": 2,
              "version_minor": 0,
              "model_id": "29417db5fb694e2aab4a575b6262c37c"
            }
          },
          "metadata": {
            "application/vnd.jupyter.widget-view+json": {
              "colab": {
                "custom_widget_manager": {
                  "url": "https://ssl.gstatic.com/colaboratory-static/widgets/colab-cdn-widget-manager/b3e629b1971e1542/manager.min.js"
                }
              }
            }
          }
        },
        {
          "output_type": "display_data",
          "data": {
            "text/plain": [
              "<IPython.core.display.HTML object>"
            ],
            "text/html": []
          },
          "metadata": {}
        }
      ]
    },
    {
      "cell_type": "markdown",
      "source": [
        "From the above output, it seems like there was an issue training the other models, and the only model to be used is the dummy model. The dummy model is only used for baseline comparisons and is not a real model. Given this information, in the future, I would try to troubleshoot why the other models could not be trained - it seems there may be high cardinality in the medium classifications, and some feature engineering may be needed. Due to this issue, visualizations cannot be made so I will be moving on to the next stage in data analysis."
      ],
      "metadata": {
        "id": "2cqFA4l6OoII"
      }
    },
    {
      "cell_type": "markdown",
      "source": [
        "## Regression"
      ],
      "metadata": {
        "id": "NGwwT1NHXAkz"
      }
    },
    {
      "cell_type": "markdown",
      "source": [
        "### Setup Stage"
      ],
      "metadata": {
        "id": "Cr_OeLHglbR7"
      }
    },
    {
      "cell_type": "code",
      "source": [
        "from pycaret.regression import * #this is necessary to run a regression model with pycaret (any class)\n",
        "from pycaret.regression import RegressionExperiment #this will import the regression experiment class"
      ],
      "metadata": {
        "id": "2W3y0q4pkW7j"
      },
      "execution_count": null,
      "outputs": []
    },
    {
      "cell_type": "markdown",
      "source": [
        "For this section, I will be using the 'real year' feature of the global housing kaggle dataset. This feature is noted as being the nominal price series deflated by the consumer price index. I assume this means that this feature is normalized, and may be better for comparing housing growth rates between countries having varying levels of housing prices."
      ],
      "metadata": {
        "id": "_YSYNeb-gcGj"
      }
    },
    {
      "cell_type": "code",
      "source": [
        "house_prices = pd.read_csv('real-year_dropna.csv') #this is the 'clean' version of the dataset and null values for real-year are dropped"
      ],
      "metadata": {
        "id": "ijZU_n9eXBQz"
      },
      "execution_count": null,
      "outputs": []
    },
    {
      "cell_type": "code",
      "source": [
        "house_prices.tail()"
      ],
      "metadata": {
        "id": "_XhA1KuOiG6h"
      },
      "execution_count": null,
      "outputs": []
    },
    {
      "cell_type": "code",
      "source": [
        "regress_setup = setup(house_prices, target = 'price', session_id = 777)"
      ],
      "metadata": {
        "id": "O1hwbkdSkghy"
      },
      "execution_count": null,
      "outputs": []
    },
    {
      "cell_type": "code",
      "source": [
        "regressGlobalHouseTrends = RegressionExperiment()"
      ],
      "metadata": {
        "id": "e1c7eHZfklte"
      },
      "execution_count": null,
      "outputs": []
    },
    {
      "cell_type": "code",
      "source": [
        "regressGlobalHouseTrends.setup(house_prices, target='price', session_id = 777)"
      ],
      "metadata": {
        "id": "hNgVU8nsk9T_"
      },
      "execution_count": null,
      "outputs": []
    },
    {
      "cell_type": "markdown",
      "source": [
        "### Model Selection Stage"
      ],
      "metadata": {
        "id": "f7QkDvb3lkF6"
      }
    },
    {
      "cell_type": "code",
      "source": [
        "models_regression_GlobalHouseTrends = compare_models()"
      ],
      "metadata": {
        "id": "lXzo1MLIlmSf"
      },
      "execution_count": null,
      "outputs": []
    },
    {
      "cell_type": "markdown",
      "source": [
        "From the looks of the above stage, the gradient boosting regressor works best. Now we will move on to visualizing the model performance before moving on to the next stage."
      ],
      "metadata": {
        "id": "jsw4O0wimCDY"
      }
    },
    {
      "cell_type": "code",
      "source": [
        "plot_model(models_regression_GlobalHouseTrends, plot = 'residuals')"
      ],
      "metadata": {
        "id": "69q9sFuEmYvv"
      },
      "execution_count": null,
      "outputs": []
    },
    {
      "cell_type": "markdown",
      "source": [
        "The above plot shows the difference in R^2 in the scoring of the regression model on the test/train split of the data. As the model scored 0.151 on the test split, the model is closer to 0 therefore the country and date features are not contributing as much to the estimator as imagined, and the variance in the price may be due to other features not present within the data."
      ],
      "metadata": {
        "id": "py-c4IUsnKE5"
      }
    },
    {
      "cell_type": "markdown",
      "source": [
        "## Clustering"
      ],
      "metadata": {
        "id": "jxVvltx7XJa-"
      }
    },
    {
      "cell_type": "code",
      "source": [],
      "metadata": {
        "id": "rjgfFRZpXLcA"
      },
      "execution_count": null,
      "outputs": []
    },
    {
      "cell_type": "markdown",
      "source": [
        "## Anomaly Detection"
      ],
      "metadata": {
        "id": "LqIUEE99XoI8"
      }
    },
    {
      "cell_type": "code",
      "source": [],
      "metadata": {
        "id": "7DfPhghxXqPq"
      },
      "execution_count": null,
      "outputs": []
    },
    {
      "cell_type": "code",
      "source": [],
      "metadata": {
        "id": "TWz-IGS1Xr21"
      },
      "execution_count": null,
      "outputs": []
    },
    {
      "cell_type": "markdown",
      "source": [
        "## Association Rules Mining"
      ],
      "metadata": {
        "id": "xnZtE_F0XsWg"
      }
    },
    {
      "cell_type": "code",
      "source": [],
      "metadata": {
        "id": "-e2VXsULXvpJ"
      },
      "execution_count": null,
      "outputs": []
    },
    {
      "cell_type": "markdown",
      "source": [
        "## Time Series Forecasting - Univariate without Exogenous Variables"
      ],
      "metadata": {
        "id": "imlCZsPwXyPL"
      }
    },
    {
      "cell_type": "code",
      "source": [],
      "metadata": {
        "id": "W6RMKDerX2Er"
      },
      "execution_count": null,
      "outputs": []
    },
    {
      "cell_type": "markdown",
      "source": [
        "## Time Series Forecasting - Univariate with Exogenous Variables"
      ],
      "metadata": {
        "id": "F53TEDp3X4tc"
      }
    },
    {
      "cell_type": "code",
      "source": [],
      "metadata": {
        "id": "4fKbKuGYX-Zg"
      },
      "execution_count": null,
      "outputs": []
    }
  ]
}